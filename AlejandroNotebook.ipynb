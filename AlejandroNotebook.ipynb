{
 "cells": [
  {
   "cell_type": "markdown",
   "id": "a9c71809",
   "metadata": {},
   "source": [
    "# Aufgabe Beschreibung\n",
    "\n",
    "- Mindestens eine NoSQL DB verwenden (Docker, Docker-compose)\n",
    "- Lessons Learned wichtiger als optimale Lösung (Was hätte ich anders gemacht?)\n",
    "\n",
    "## Abzugeben:\n",
    "- Dockerfile / Dockercompose pro DB\n",
    "- PDF Datenmodell -> Aufbau von System\n",
    "- Skript / Programm zum Laden von Daten in die DB\n",
    "- Abfragen zum Szenarien\n",
    "- PDF Lessons Learned (`lessons-learned.pdf`)\n",
    "\n",
    "## DB:\n",
    "- Sollte auf mehrere Container / Knoten laufen\n",
    "  - Wenn es nicht geht, erklären wieso das nicht ging / was dafür gebraucht ist\n",
    "\n",
    "## App (Optional)\n",
    "- Laden von Init-Daten\n",
    "- Abfragen feuern\n",
    "- Inhalt anzeigen\n",
    "\n",
    "## Systemanforderungen\n",
    "- Es gibt:\n",
    "  - Follower-Beziehungen\n",
    "  - Posts von Prominenten\n",
    "- Aufgaben:\n",
    "  - Posts von Prominenten auf die 100 IDs verteilen, die am meisten Follower haben (Influencer)\n",
    "  - Posts können geliked werden (von welchem User wurde ein Post eines anderen Users geliked)\n",
    "    - Zufällig generiert\n",
    "- Anfragen:\n",
    "  - Auflistung von zu einem Account zugeordneten Posts\n",
    "  - Auflistung der 100 Accounts mit den meisten Followern (Influencer)\n",
    "  - Auflistung der 100 Accounts, die den meisten der Influencer folgen\n",
    "  - Startseite für ein beliebiges Account (Influencer sind hier gut):\n",
    "    - Anzahl Followers\n",
    "    - Anzahl gefolgte Accounts\n",
    "    - 25 Posts:\n",
    "      - Neueste\n",
    "      - Meisten Likes von gefolgte Accounts\n",
    "    - Caching der Posts für die Startseite:\n",
    "      - Fan-Out in den Cache jedes Followers beim Schreiben eines neuen Posts (Fragen nicht von zentraler Tabelle, sondern jedes Account hat eigenen Tweets-Feed)\n",
    "    - Auflistung der 25 Posts, die ein Wort beinhalten:\n",
    "      - (Optional: Und-verknüpfte Wörter)\n"
   ]
  },
  {
   "cell_type": "markdown",
   "id": "0d749976",
   "metadata": {},
   "source": [
    "# Setup"
   ]
  },
  {
   "cell_type": "markdown",
   "id": "e4b94294",
   "metadata": {},
   "source": [
    "## Install needed libraries and import components"
   ]
  },
  {
   "cell_type": "code",
   "execution_count": 23,
   "id": "0225325e-4211-49fc-a49a-2c9d1495b96b",
   "metadata": {},
   "outputs": [
    {
     "name": "stdout",
     "output_type": "stream",
     "text": [
      "zsh:fg:1: no job control in this shell.\n"
     ]
    }
   ],
   "source": [
    "# Install needed libraries and import components\n",
    "!%pip install \"pymongo[srv]\"\n",
    "\n",
    "from pymongo import MongoClient\n",
    "from pymongo.errors import ConnectionFailure\n",
    "from datetime import datetime"
   ]
  },
  {
   "cell_type": "markdown",
   "id": "217791b5",
   "metadata": {},
   "source": [
    "## Define the MongoDB server details"
   ]
  },
  {
   "cell_type": "code",
   "execution_count": 3,
   "id": "c9c1391a-ffcb-4cb3-ab35-523ce982f387",
   "metadata": {},
   "outputs": [],
   "source": [
    "# Define the MongoDB server details\n",
    "host = 'localhost'\n",
    "port = 27017\n",
    "username = 'devroot'  # Replace with your MongoDB username\n",
    "password = 'devroot'  # Replace with your MongoDB password\n",
    "\n",
    "# Create the connection string\n",
    "connection_string = f'mongodb://{username}:{password}@{host}:{port}'"
   ]
  },
  {
   "cell_type": "markdown",
   "id": "f50eb7b2",
   "metadata": {},
   "source": [
    "## Connect to DB and test connection"
   ]
  },
  {
   "cell_type": "code",
   "execution_count": 10,
   "id": "6514139e-fbdf-42cd-941f-357cb92de5dc",
   "metadata": {},
   "outputs": [],
   "source": [
    "# Connect to the MongoDB server\n",
    "client = MongoClient(connection_string)"
   ]
  },
  {
   "cell_type": "code",
   "execution_count": 11,
   "id": "73ce421e-7d05-4265-8c5a-78af4bcaebf3",
   "metadata": {},
   "outputs": [
    {
     "name": "stdout",
     "output_type": "stream",
     "text": [
      "Connected successfully to MongoDB\n",
      "Databases: ['admin', 'config', 'local']\n"
     ]
    }
   ],
   "source": [
    "try:\n",
    "    # Verify connection\n",
    "    client.admin.command('ping')\n",
    "    print(\"Connected successfully to MongoDB\")\n",
    "    \n",
    "    # List all databases\n",
    "    databases = client.list_database_names()\n",
    "    print(\"Databases:\", databases)\n",
    "        \n",
    "except ConnectionFailure as e:\n",
    "    print(f\"Could not connect to MongoDB: {e}\")"
   ]
  },
  {
   "cell_type": "markdown",
   "id": "09f6e6fd",
   "metadata": {},
   "source": [
    "# Insert Data into DB"
   ]
  },
  {
   "cell_type": "markdown",
   "id": "0ec4d08a",
   "metadata": {},
   "source": [
    "## Collections definition"
   ]
  },
  {
   "cell_type": "code",
   "execution_count": 20,
   "id": "3f7be3a5",
   "metadata": {},
   "outputs": [],
   "source": [
    "# Select the database and collections\n",
    "db = client['social_network']\n",
    "users_collection = db['users']\n",
    "followers_collection = db['followers']\n",
    "posts_collection = db['posts']\n",
    "likes_collection = db['likes']\n",
    "feeds_collection = db['feeds']"
   ]
  },
  {
   "cell_type": "markdown",
   "id": "2f7751ad",
   "metadata": {},
   "source": [
    "## Help Functions"
   ]
  },
  {
   "cell_type": "code",
   "execution_count": 27,
   "id": "21db9775",
   "metadata": {},
   "outputs": [],
   "source": [
    "# Function to add a user\n",
    "def add_user(user_id):\n",
    "    user = {\"_id\": user_id, \"following_count\": 0, \"followers_count\": 0}\n",
    "    users_collection.insert_one(user)\n",
    "\n",
    "# Function to follow a user\n",
    "def follow_user(follower_id, followed_id):\n",
    "    relationship = {\"follower_id\": follower_id, \"followed_id\": followed_id}\n",
    "    followers_collection.insert_one(relationship)\n",
    "    users_collection.update_one({\"_id\": follower_id}, {\"$inc\": {\"following_count\": 1}})\n",
    "    users_collection.update_one({\"_id\": followed_id}, {\"$inc\": {\"followers_count\": 1}})\n",
    "\n",
    "# Function to add a post\n",
    "def add_post(user_id, content):\n",
    "    post = {\n",
    "        \"user_id\": user_id,\n",
    "        \"content\": content,\n",
    "        \"timestamp\": datetime.now(),\n",
    "        \"likes\": 0\n",
    "    }\n",
    "    post_id = posts_collection.insert_one(post).inserted_id\n",
    "    propagate_post_to_followers(post_id, user_id, content)\n",
    "    return post_id\n",
    "\n",
    "# Function to propagate a post to all followers' feeds\n",
    "def propagate_post_to_followers(post_id, user_id, content):\n",
    "    followers = followers_collection.find({\"followed_id\": user_id})\n",
    "    for follower in followers:\n",
    "        feed_entry = {\n",
    "            \"user_id\": follower[\"follower_id\"],\n",
    "            \"post_id\": post_id,\n",
    "            \"poster_id\": user_id,\n",
    "            \"content\": content,\n",
    "            \"timestamp\": datetime.utcnow(),\n",
    "            \"likes\": 0\n",
    "        }\n",
    "        feeds_collection.insert_one(feed_entry)\n",
    "\n",
    "# Function to like a post\n",
    "def like_post(user_id, post_id):\n",
    "    like = {\"user_id\": user_id, \"post_id\": post_id}\n",
    "    likes_collection.insert_one(like)\n",
    "    posts_collection.update_one({\"_id\": post_id}, {\"$inc\": {\"likes\": 1}})\n",
    "    feeds_collection.update_many({\"post_id\": post_id}, {\"$inc\": {\"likes\": 1}})\n"
   ]
  },
  {
   "cell_type": "markdown",
   "id": "76568c7a",
   "metadata": {},
   "source": [
    "## Data insertion"
   ]
  },
  {
   "cell_type": "code",
   "execution_count": 29,
   "id": "f91d4b81",
   "metadata": {},
   "outputs": [],
   "source": [
    "# Add some users\n",
    "add_user(1)\n",
    "add_user(2)\n",
    "add_user(3)\n",
    "\n",
    "# Establish some follower relationships\n",
    "follow_user(1, 2)  # Alice follows Bob\n",
    "follow_user(3, 2)  # Charlie follows Bob\n",
    "follow_user(1, 3)  # Alice follows Charlie\n",
    "\n",
    "# Add some posts\n",
    "alice_post_id = add_post(1, \"Hello, world!\")  # Alice's post\n",
    "bob_post_id = add_post(2, \"It's a beautiful day!\")  # Bob's post\n",
    "charlie_post_id = add_post(3, \"Learning MongoDB with Python!\")  # Charlie's post\n",
    "\n",
    "\n",
    "# Like some posts\n",
    "like_post(1, alice_post_id)  \n",
    "like_post(3, alice_post_id)\n",
    "like_post(2, charlie_post_id)"
   ]
  },
  {
   "cell_type": "markdown",
   "id": "666b99cb",
   "metadata": {},
   "source": [
    "# Request data from DB"
   ]
  },
  {
   "cell_type": "markdown",
   "id": "ed92bc4c",
   "metadata": {},
   "source": [
    "## Helper functions"
   ]
  },
  {
   "cell_type": "code",
   "execution_count": 39,
   "id": "ea6e1ebb",
   "metadata": {},
   "outputs": [],
   "source": [
    "def get_top_influencers(n):\n",
    "    return users_collection.find().sort(\"followers_count\", -1).limit(n)\n",
    "\n",
    "def get_user_posts(user_id):\n",
    "    return posts_collection.find({\"user_id\": user_id})\n",
    "\n",
    "def get_top_follower_users(n):\n",
    "    return users_collection.find().sort(\"following_count\", -1).limit(n)\n",
    "\n",
    "def get_user_profile(user_id, n):\n",
    "    user = users_collection.find_one({\"_id\": user_id})\n",
    "    followers_count = user[\"followers_count\"]\n",
    "    following_count = user[\"following_count\"]\n",
    "    \n",
    "    recent_posts = posts_collection.find({\"user_id\": user_id}).sort(\"timestamp\", -1).limit(n)\n",
    "    popular_posts = posts_collection.find({\"user_id\": user_id}).sort(\"likes\", -1).limit(n)\n",
    "    feed = feeds_collection.find({\"user_id\": user_id}).sort(\"timestamp\", -1).limit(n)\n",
    "    \n",
    "    profile = {\n",
    "        \"user_id\": user_id,\n",
    "        \"followers_count\": followers_count,\n",
    "        \"following_count\": following_count,\n",
    "        \"recent_posts\": list(recent_posts),\n",
    "        \"popular_posts\": list(popular_posts),\n",
    "        \"feed\": list(feed)\n",
    "    }\n",
    "    return profile\n",
    "\n",
    "def print_user_profile(user_profile):\n",
    "    print(\"User profile with id:\", user_profile[\"user_id\"])\n",
    "    print(\"Followers count:\", user_profile[\"followers_count\"])\n",
    "    print(\"Following count:\", user_profile[\"following_count\"])\n",
    "    print(\"Recent posts:\")\n",
    "    for post in user_profile[\"recent_posts\"]:\n",
    "        print(post[\"content\"], \"date:\", post[\"timestamp\"])\n",
    "    print(\"Popular posts:\")\n",
    "    for post in user_profile[\"popular_posts\"]:\n",
    "        print(post[\"content\"], \"likes\", post[\"likes\"])\n",
    "    print(\"Feed:\")\n",
    "    for post in user_profile[\"feed\"]:\n",
    "        print(post[\"content\"], \"date:\", post[\"timestamp\"])\n",
    "\n",
    "def get_posts_with_word(word, n):\n",
    "    return posts_collection.find({\"content\": {\"$regex\": word, \"$options\": \"i\"}}).limit(n)\n"
   ]
  },
  {
   "cell_type": "markdown",
   "id": "89939c93",
   "metadata": {},
   "source": [
    "## Find out top 100 most followed"
   ]
  },
  {
   "cell_type": "code",
   "execution_count": 34,
   "id": "120be840",
   "metadata": {},
   "outputs": [
    {
     "name": "stdout",
     "output_type": "stream",
     "text": [
      "Top influencers:\n",
      "user id: 2 Follower count 2\n",
      "user id: 3 Follower count 1\n"
     ]
    }
   ],
   "source": [
    "# Get and print top influencers\n",
    "top_influencers = get_top_influencers(2)\n",
    "print(\"Top influencers:\")\n",
    "for influencer in top_influencers:\n",
    "    print(\"user id:\", influencer[\"_id\"], \"Follower count\", influencer[\"followers_count\"])"
   ]
  },
  {
   "cell_type": "markdown",
   "id": "1b1dc4ba",
   "metadata": {},
   "source": [
    "## Find out top 100 influencer followers"
   ]
  },
  {
   "cell_type": "code",
   "execution_count": 35,
   "id": "9659e9f4",
   "metadata": {},
   "outputs": [
    {
     "name": "stdout",
     "output_type": "stream",
     "text": [
      "Top followers:\n",
      "user id: 1 Influencers followed 2\n",
      "user id: 3 Influencers followed 1\n"
     ]
    }
   ],
   "source": [
    "# Get and print top followers\n",
    "top_followers = get_top_follower_users(2)\n",
    "print(\"Top followers:\")\n",
    "for follower in top_followers:\n",
    "    print(\"user id:\", follower[\"_id\"], \"Influencers followed\", follower[\"following_count\"])"
   ]
  },
  {
   "cell_type": "markdown",
   "id": "1ce50c0f",
   "metadata": {},
   "source": [
    "## Show user profile"
   ]
  },
  {
   "cell_type": "code",
   "execution_count": 41,
   "id": "6d36a084",
   "metadata": {},
   "outputs": [
    {
     "name": "stdout",
     "output_type": "stream",
     "text": [
      "User profile with id: 3\n",
      "Followers count: 1\n",
      "Following count: 1\n",
      "Recent posts:\n",
      "Learning MongoDB with Python! date: 2024-06-18 11:02:34.072000\n",
      "Popular posts:\n",
      "Learning MongoDB with Python! likes 1\n",
      "Feed:\n",
      "It's a beautiful day! date: 2024-06-18 09:02:34.071000\n"
     ]
    }
   ],
   "source": [
    "# Get and print user profile\n",
    "user_profile = get_user_profile(3, 2)\n",
    "print_user_profile(user_profile)"
   ]
  },
  {
   "cell_type": "markdown",
   "id": "dde8ab90",
   "metadata": {},
   "source": [
    "## Posts containing word"
   ]
  },
  {
   "cell_type": "code",
   "execution_count": 42,
   "id": "96124357",
   "metadata": {},
   "outputs": [
    {
     "name": "stdout",
     "output_type": "stream",
     "text": [
      "Posts containing 'beautiful':\n",
      "It's a beautiful day!\n"
     ]
    }
   ],
   "source": [
    "# Get and print posts with a given word\n",
    "posts_with_word = get_posts_with_word(\"beautiful\", 2)\n",
    "print(\"Posts containing 'beautiful':\")\n",
    "for post in posts_with_word:\n",
    "    print(post[\"content\"])"
   ]
  },
  {
   "cell_type": "markdown",
   "id": "ed336184",
   "metadata": {},
   "source": [
    "# Cleanup"
   ]
  },
  {
   "cell_type": "code",
   "execution_count": 28,
   "id": "ccb94af2",
   "metadata": {},
   "outputs": [
    {
     "name": "stdout",
     "output_type": "stream",
     "text": [
      "Database cleared.\n"
     ]
    }
   ],
   "source": [
    "db.users.drop()\n",
    "db.followers.drop()\n",
    "db.posts.drop()\n",
    "db.likes.drop()\n",
    "db.feeds.drop()\n",
    "print(\"Database cleared.\")"
   ]
  },
  {
   "cell_type": "code",
   "execution_count": 7,
   "id": "0cf83358",
   "metadata": {},
   "outputs": [],
   "source": [
    "# Close the connection\n",
    "client.close()"
   ]
  }
 ],
 "metadata": {
  "kernelspec": {
   "display_name": "Python 3 (ipykernel)",
   "language": "python",
   "name": "python3"
  },
  "language_info": {
   "codemirror_mode": {
    "name": "ipython",
    "version": 3
   },
   "file_extension": ".py",
   "mimetype": "text/x-python",
   "name": "python",
   "nbconvert_exporter": "python",
   "pygments_lexer": "ipython3",
   "version": "3.9.6"
  }
 },
 "nbformat": 4,
 "nbformat_minor": 5
}
