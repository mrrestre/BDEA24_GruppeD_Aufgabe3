{
 "cells": [
  {
   "cell_type": "markdown",
   "id": "a9c71809",
   "metadata": {},
   "source": [
    "# Aufgabe Beschreibung\n",
    "\n",
    "- Mindestens eine NoSQL DB verwenden (Docker, Docker-compose)\n",
    "- Lessons Learned wichtiger als optimale Lösung (Was hätte ich anders gemacht?)\n",
    "\n",
    "## Abzugeben:\n",
    "- Dockerfile / Dockercompose pro DB\n",
    "- PDF Datenmodell -> Aufbau von System\n",
    "- Skript / Programm zum Laden von Daten in die DB\n",
    "- Abfragen zum Szenarien\n",
    "- PDF Lessons Learned (`lessons-learned.pdf`)\n",
    "\n",
    "## DB:\n",
    "- Sollte auf mehrere Container / Knoten laufen\n",
    "  - Wenn es nicht geht, erklären wieso das nicht ging / was dafür gebraucht ist\n",
    "\n",
    "## App (Optional)\n",
    "- Laden von Init-Daten\n",
    "- Abfragen feuern\n",
    "- Inhalt anzeigen\n",
    "\n",
    "## Systemanforderungen\n",
    "- Es gibt:\n",
    "  - Follower-Beziehungen\n",
    "  - Posts von Prominenten\n",
    "- Aufgaben:\n",
    "  - Posts von Prominenten auf die 100 IDs verteilen, die am meisten Follower haben (Influencer)\n",
    "  - Posts können geliked werden (von welchem User wurde ein Post eines anderen Users geliked)\n",
    "    - Zufällig generiert\n",
    "- Anfragen:\n",
    "  - Auflistung von zu einem Account zugeordneten Posts\n",
    "  - Auflistung der 100 Accounts mit den meisten Followern (Influencer)\n",
    "  - Auflistung der 100 Accounts, die den meisten der Influencer folgen\n",
    "  - Startseite für ein beliebiges Account (Influencer sind hier gut):\n",
    "    - Anzahl Followers\n",
    "    - Anzahl gefolgte Accounts\n",
    "    - 25 Posts:\n",
    "      - Neueste\n",
    "      - Meisten Likes von gefolgte Accounts\n",
    "    - Caching der Posts für die Startseite:\n",
    "      - Fan-Out in den Cache jedes Followers beim Schreiben eines neuen Posts (Fragen nicht von zentraler Tabelle, sondern jedes Account hat eigenen Tweets-Feed)\n",
    "    - Auflistung der 25 Posts, die ein Wort beinhalten:\n",
    "      - (Optional: Und-verknüpfte Wörter)\n"
   ]
  },
  {
   "cell_type": "markdown",
   "id": "0d749976",
   "metadata": {},
   "source": [
    "# Setup"
   ]
  },
  {
   "cell_type": "markdown",
   "id": "e4b94294",
   "metadata": {},
   "source": [
    "## Install needed libraries and import components"
   ]
  },
  {
   "cell_type": "code",
   "execution_count": 1,
   "id": "0225325e-4211-49fc-a49a-2c9d1495b96b",
   "metadata": {},
   "outputs": [],
   "source": [
    "from pymongo import MongoClient\n",
    "from pymongo.errors import ConnectionFailure\n",
    "from datetime import datetime\n",
    "\n",
    "import pandas as pd\n",
    "\n",
    "import csv\n",
    "import random"
   ]
  },
  {
   "cell_type": "markdown",
   "id": "217791b5",
   "metadata": {},
   "source": [
    "## Define the MongoDB server details"
   ]
  },
  {
   "cell_type": "code",
   "execution_count": 20,
   "id": "c9c1391a-ffcb-4cb3-ab35-523ce982f387",
   "metadata": {},
   "outputs": [],
   "source": [
    "# Define the MongoDB server details\n",
    "host = 'localhost'\n",
    "port = 27017\n",
    "username = 'devroot'  # Replace with your MongoDB username\n",
    "password = 'devroot'  # Replace with your MongoDB password\n",
    "\n",
    "# Create the connection string\n",
    "connection_string = f'mongodb://{username}:{password}@{host}:{port}'"
   ]
  },
  {
   "cell_type": "markdown",
   "id": "f50eb7b2",
   "metadata": {},
   "source": [
    "## Connect to DB and test connection"
   ]
  },
  {
   "cell_type": "code",
   "execution_count": 21,
   "id": "6514139e-fbdf-42cd-941f-357cb92de5dc",
   "metadata": {},
   "outputs": [],
   "source": [
    "# Connect to the MongoDB server\n",
    "client = MongoClient(connection_string)"
   ]
  },
  {
   "cell_type": "code",
   "execution_count": 22,
   "id": "73ce421e-7d05-4265-8c5a-78af4bcaebf3",
   "metadata": {},
   "outputs": [
    {
     "name": "stdout",
     "output_type": "stream",
     "text": [
      "Connected successfully to MongoDB\n",
      "Databases: ['admin', 'config', 'local', 'social_network']\n"
     ]
    }
   ],
   "source": [
    "try:\n",
    "    # Verify connection\n",
    "    client.admin.command('ping')\n",
    "    print(\"Connected successfully to MongoDB\")\n",
    "    \n",
    "    # List all databases\n",
    "    databases = client.list_database_names()\n",
    "    print(\"Databases:\", databases)\n",
    "        \n",
    "except ConnectionFailure as e:\n",
    "    print(f\"Could not connect to MongoDB: {e}\")"
   ]
  },
  {
   "cell_type": "markdown",
   "id": "16f25a76",
   "metadata": {},
   "source": [
    "# Global Definitions"
   ]
  },
  {
   "cell_type": "markdown",
   "id": "49d89f52",
   "metadata": {},
   "source": [
    "## Collection definition"
   ]
  },
  {
   "cell_type": "code",
   "execution_count": 23,
   "id": "33419374",
   "metadata": {},
   "outputs": [],
   "source": [
    "# Select the database and collections\n",
    "db = client['social_network']\n",
    "users_collection = db['users']\n",
    "followers_collection = db['followers']\n",
    "posts_collection = db['posts']\n",
    "likes_collection = db['likes']\n",
    "feeds_collection = db['feeds']"
   ]
  },
  {
   "cell_type": "markdown",
   "id": "f61fc1bf",
   "metadata": {},
   "source": [
    "## Helper functions"
   ]
  },
  {
   "cell_type": "code",
   "execution_count": 9,
   "id": "103ec1bc",
   "metadata": {},
   "outputs": [],
   "source": [
    "# Function to add a user\n",
    "def add_user(user_id):\n",
    "    user = {\"_id\": user_id, \"following_count\": 0, \"followers_count\": 0}\n",
    "    users_collection.insert_one(user)\n",
    "\n",
    "# Function to check if user already exists\n",
    "def user_exists(user_id):\n",
    "    return users_collection.count_documents({\"_id\": user_id}) > 0\n",
    "\n",
    "# Function to follow a user\n",
    "def follow_user(follower_id, followed_id):\n",
    "    relationship = {\"follower_id\": follower_id, \"followed_id\": followed_id}\n",
    "    followers_collection.insert_one(relationship)\n",
    "    users_collection.update_one({\"_id\": follower_id}, {\"$inc\": {\"following_count\": 1}})\n",
    "    users_collection.update_one({\"_id\": followed_id}, {\"$inc\": {\"followers_count\": 1}})\n",
    "\n",
    "# Function to add a post\n",
    "def add_post(user_id, content, date):\n",
    "    post = {\n",
    "        \"user_id\": user_id,\n",
    "        \"content\": content,\n",
    "        \"timestamp\": date,\n",
    "        \"likes\": 0\n",
    "    }\n",
    "    post_id = posts_collection.insert_one(post).inserted_id\n",
    "    propagate_post_to_followers(post_id, user_id, content, date)\n",
    "    return post_id\n",
    "\n",
    "# Function to propagate a post to all followers' feeds\n",
    "def propagate_post_to_followers(post_id, user_id, content, date):\n",
    "    followers = followers_collection.find({\"followed_id\": user_id})\n",
    "    for follower in followers:\n",
    "        feed_entry = {\n",
    "            \"user_id\": follower[\"follower_id\"],\n",
    "            \"post_id\": post_id,\n",
    "            \"poster_id\": user_id,\n",
    "            \"content\": content,\n",
    "            \"timestamp\": date,\n",
    "            \"likes\": 0\n",
    "        }\n",
    "        feeds_collection.insert_one(feed_entry)\n",
    "\n",
    "# Function to like a post\n",
    "def like_post(user_id, post_id):\n",
    "    like = {\"user_id\": user_id, \"post_id\": post_id}\n",
    "    likes_collection.insert_one(like)\n",
    "    posts_collection.update_one({\"_id\": post_id}, {\"$inc\": {\"likes\": 1}})\n",
    "    feeds_collection.update_many({\"post_id\": post_id}, {\"$inc\": {\"likes\": 1}})\n",
    "\n",
    "def get_top_influencers(n):\n",
    "    return users_collection.find().sort(\"followers_count\", -1).limit(n)\n",
    "\n",
    "def get_user_posts(user_id):\n",
    "    return posts_collection.find({\"user_id\": user_id})\n",
    "\n",
    "# This function needs to be changed to only take into account the amount of followed influencers\n",
    "def get_top_follower_users(n):\n",
    "    return users_collection.find().sort(\"following_count\", -1).limit(n)\n",
    "\n",
    "def get_user_profile(user_id, n):\n",
    "    user = users_collection.find_one({\"_id\": user_id})\n",
    "    followers_count = user[\"followers_count\"]\n",
    "    following_count = user[\"following_count\"]\n",
    "    \n",
    "    recent_posts = posts_collection.find({\"user_id\": user_id}).sort(\"timestamp\", -1).limit(n)\n",
    "    popular_posts = posts_collection.find({\"user_id\": user_id}).sort(\"likes\", -1).limit(n)\n",
    "    feed = feeds_collection.find({\"user_id\": user_id}).sort(\"timestamp\", -1).limit(n)\n",
    "    \n",
    "    profile = {\n",
    "        \"user_id\": user_id,\n",
    "        \"followers_count\": followers_count,\n",
    "        \"following_count\": following_count,\n",
    "        \"recent_posts\": list(recent_posts),\n",
    "        \"popular_posts\": list(popular_posts),\n",
    "        \"feed\": list(feed)\n",
    "    }\n",
    "    return profile\n",
    "\n",
    "def print_user_profile(user_profile):\n",
    "    print(\"User profile with id:\", user_profile[\"user_id\"])\n",
    "    print(\"Followers count:\", user_profile[\"followers_count\"])\n",
    "    print(\"Following count:\", user_profile[\"following_count\"])\n",
    "    print(\"Recent posts:\")\n",
    "    for post in user_profile[\"recent_posts\"]:\n",
    "        print(post[\"content\"], \"date:\", post[\"timestamp\"])\n",
    "    print(\"Popular posts:\")\n",
    "    for post in user_profile[\"popular_posts\"]:\n",
    "        print(post[\"content\"], \"likes\", post[\"likes\"])\n",
    "    print(\"Feed:\")\n",
    "    for post in user_profile[\"feed\"]:\n",
    "        print(post[\"content\"], \"date:\", post[\"timestamp\"])\n",
    "\n",
    "def get_posts_with_word(word, n):\n",
    "    return posts_collection.find({\"content\": {\"$regex\": word, \"$options\": \"i\"}}).limit(n)\n",
    "\n",
    "# Function to read the CSV file and process the data\n",
    "def process_csv(file_path):\n",
    "    data_map = {}  # Dictionary to store the concatenated string and date\n",
    "\n",
    "    with open(file_path, mode='r', encoding='utf-8') as file:\n",
    "        reader = csv.DictReader(file)\n",
    "        \n",
    "        # Iterate through each row in the CSV file\n",
    "        for index, row in enumerate(reader):\n",
    "            author = row['author']\n",
    "            content = row['content']\n",
    "            date_time_str = row['date_time']\n",
    "            \n",
    "            # Concatenate author and content\n",
    "            concatenated = f\"{author}: {content}\"\n",
    "            \n",
    "            # Convert the date_time string to a datetime object\n",
    "            date_time = datetime.strptime(date_time_str, '%d/%m/%Y %H:%M')\n",
    "            \n",
    "            # Store the concatenated string and date in the dictionary\n",
    "            data_map[index] = {'tweet': concatenated, 'date': date_time}\n",
    "    \n",
    "    return data_map\n",
    "\n",
    "# Function to get a random user ID from the users collection\n",
    "def get_random_user_id():\n",
    "    count = users_collection.count_documents({})\n",
    "    if count > 0:\n",
    "        random_index = random.randint(0, count - 1)\n",
    "        random_user = users_collection.find().skip(random_index).limit(1)\n",
    "        for user in random_user:\n",
    "            return user['_id']\n",
    "    else:\n",
    "        return None"
   ]
  },
  {
   "cell_type": "markdown",
   "id": "09f6e6fd",
   "metadata": {},
   "source": [
    "# Insert Data into DB"
   ]
  },
  {
   "cell_type": "markdown",
   "id": "f36786a0",
   "metadata": {},
   "source": [
    "## Insert users and following relationships to db"
   ]
  },
  {
   "cell_type": "code",
   "execution_count": 7,
   "id": "6a871bc3",
   "metadata": {},
   "outputs": [],
   "source": [
    "from pymongo import InsertOne, UpdateOne\n",
    "\n",
    "file_path = './InputData/twitter_combined.txt'\n",
    "\n",
    "# Read file content\n",
    "with open(file_path, 'r') as file:\n",
    "    lines = file.readlines()\n",
    "\n",
    "# Prepare data\n",
    "user_pairs = [tuple(map(int, line.strip().split())) for line in lines]\n",
    "\n",
    "# Get a unique set of all users involved\n",
    "all_users = {user for pair in user_pairs for user in pair}\n",
    "\n",
    "# Check which users already exist in the database\n",
    "existing_users = set(users_collection.distinct(\"_id\", {\"_id\": {\"$in\": list(all_users)}}))\n",
    "\n",
    "# Identify new users\n",
    "new_users = all_users - existing_users\n",
    "\n",
    "# Prepare bulk operations for new users\n",
    "user_bulk_operations = [\n",
    "    InsertOne({\"_id\": user_id, \"following_count\": 0, \"followers_count\": 0})\n",
    "    for user_id in new_users\n",
    "]\n",
    "\n",
    "# Execute bulk insert for new users\n",
    "if user_bulk_operations:\n",
    "    users_collection.bulk_write(user_bulk_operations)\n",
    "\n",
    "# Prepare bulk operations for relationships and updating counts\n",
    "relationship_bulk_operations = []\n",
    "user_update_operations = []\n",
    "\n",
    "for user1, user2 in user_pairs:\n",
    "    relationship_bulk_operations.append(InsertOne({\"follower_id\": user1, \"followed_id\": user2}))\n",
    "    user_update_operations.append(UpdateOne({\"_id\": user1}, {\"$inc\": {\"following_count\": 1}}))\n",
    "    user_update_operations.append(UpdateOne({\"_id\": user2}, {\"$inc\": {\"followers_count\": 1}}))\n",
    "\n",
    "# Execute bulk insert for relationships\n",
    "if relationship_bulk_operations:\n",
    "    followers_collection.bulk_write(relationship_bulk_operations)\n",
    "\n",
    "# Execute bulk update for user counts\n",
    "if user_update_operations:\n",
    "    users_collection.bulk_write(user_update_operations)\n"
   ]
  },
  {
   "cell_type": "code",
   "execution_count": 7,
   "id": "ff1df0ef",
   "metadata": {},
   "outputs": [],
   "source": [
    "file_path = './InputData/twitter_combined.txt'\n",
    "\n",
    "with open(file_path, 'r') as file:\n",
    "    lines = file.readlines()\n",
    "    user_pairs = [tuple(map(int, line.strip().split())) for line in lines]\n",
    "\n",
    "    for user1, user2 in user_pairs:\n",
    "        if not user_exists(user1):\n",
    "            add_user(user1)\n",
    "        \n",
    "        if not user_exists(user2):\n",
    "            add_user(user2)\n",
    "        \n",
    "        follow_user(user1, user2)"
   ]
  },
  {
   "cell_type": "markdown",
   "id": "bc34dff9",
   "metadata": {},
   "source": [
    "## Find out the top 100 most followed users (Influencers)"
   ]
  },
  {
   "cell_type": "code",
   "execution_count": 24,
   "id": "1fd3bf62",
   "metadata": {},
   "outputs": [
    {
     "name": "stdout",
     "output_type": "stream",
     "text": [
      "Top influencers:\n",
      "user id: 40981798 Follower count 8660\n",
      "user id: 43003845 Follower count 7700\n",
      "user id: 22462180 Follower count 7623\n",
      "user id: 34428380 Follower count 7558\n",
      "user id: 115485051 Follower count 4798\n",
      "user id: 15913 Follower count 4337\n",
      "user id: 3359851 Follower count 3986\n",
      "user id: 11348282 Follower count 3850\n",
      "user id: 7861312 Follower count 3712\n",
      "user id: 27633075 Follower count 3655\n",
      "user id: 31331740 Follower count 3623\n",
      "user id: 18996905 Follower count 3255\n",
      "user id: 7860742 Follower count 3197\n",
      "user id: 813286 Follower count 3172\n",
      "user id: 22784458 Follower count 2974\n",
      "user id: 17868918 Follower count 2904\n",
      "user id: 10671602 Follower count 2874\n",
      "user id: 117674417 Follower count 2858\n",
      "user id: 48485771 Follower count 2725\n",
      "user id: 34068984 Follower count 2693\n",
      "user id: 18927441 Follower count 2680\n",
      "user id: 83943787 Follower count 2678\n",
      "user id: 15853668 Follower count 2634\n",
      "user id: 1183041 Follower count 2593\n",
      "user id: 238260874 Follower count 2560\n",
      "user id: 8088112 Follower count 2539\n",
      "user id: 16464746 Follower count 2425\n",
      "user id: 16098603 Follower count 2399\n",
      "user id: 88323281 Follower count 2356\n",
      "user id: 18776017 Follower count 2346\n",
      "user id: 133055665 Follower count 2342\n",
      "user id: 263838766 Follower count 2317\n",
      "user id: 309366491 Follower count 2291\n",
      "user id: 90420314 Follower count 2241\n",
      "user id: 116036694 Follower count 2238\n",
      "user id: 31353077 Follower count 2209\n",
      "user id: 100318079 Follower count 2208\n",
      "user id: 14654965 Follower count 2122\n",
      "user id: 63485337 Follower count 2095\n",
      "user id: 59804598 Follower count 2083\n",
      "user id: 10350 Follower count 2073\n",
      "user id: 195475105 Follower count 2069\n",
      "user id: 16303106 Follower count 2031\n",
      "user id: 270449528 Follower count 2014\n",
      "user id: 151338729 Follower count 1981\n",
      "user id: 19358562 Follower count 1927\n",
      "user id: 24742040 Follower count 1897\n",
      "user id: 65913144 Follower count 1862\n",
      "user id: 26281970 Follower count 1821\n",
      "user id: 116952434 Follower count 1799\n",
      "user id: 30313925 Follower count 1775\n",
      "user id: 187773078 Follower count 1774\n",
      "user id: 5442012 Follower count 1763\n",
      "user id: 15234657 Follower count 1752\n",
      "user id: 79797834 Follower count 1742\n",
      "user id: 276706356 Follower count 1725\n",
      "user id: 16475194 Follower count 1718\n",
      "user id: 280935165 Follower count 1710\n",
      "user id: 27855118 Follower count 1696\n",
      "user id: 204317520 Follower count 1674\n",
      "user id: 121533789 Follower count 1668\n",
      "user id: 69592091 Follower count 1665\n",
      "user id: 82030021 Follower count 1657\n",
      "user id: 28465635 Follower count 1656\n",
      "user id: 18742444 Follower count 1625\n",
      "user id: 254839786 Follower count 1600\n",
      "user id: 972651 Follower count 1591\n",
      "user id: 47787563 Follower count 1568\n",
      "user id: 7872262 Follower count 1567\n",
      "user id: 14075928 Follower count 1559\n",
      "user id: 783214 Follower count 1550\n",
      "user id: 19040580 Follower count 1536\n",
      "user id: 14922225 Follower count 1529\n",
      "user id: 26929220 Follower count 1528\n",
      "user id: 284422688 Follower count 1524\n",
      "user id: 204140367 Follower count 1520\n",
      "user id: 93905958 Follower count 1496\n",
      "user id: 46423291 Follower count 1493\n",
      "user id: 19493072 Follower count 1491\n",
      "user id: 19802879 Follower count 1480\n",
      "user id: 21681252 Follower count 1479\n",
      "user id: 314316607 Follower count 1479\n",
      "user id: 14230524 Follower count 1472\n",
      "user id: 11928542 Follower count 1467\n",
      "user id: 428333 Follower count 1439\n",
      "user id: 24585498 Follower count 1437\n",
      "user id: 19725644 Follower count 1426\n",
      "user id: 22679419 Follower count 1411\n",
      "user id: 2367911 Follower count 1406\n",
      "user id: 17093617 Follower count 1405\n",
      "user id: 62581962 Follower count 1402\n",
      "user id: 17224642 Follower count 1399\n",
      "user id: 149538028 Follower count 1396\n",
      "user id: 15439395 Follower count 1395\n",
      "user id: 259842341 Follower count 1391\n",
      "user id: 173732041 Follower count 1385\n",
      "user id: 47161442 Follower count 1381\n",
      "user id: 153226312 Follower count 1378\n",
      "user id: 131601987 Follower count 1372\n",
      "user id: 229039814 Follower count 1370\n"
     ]
    }
   ],
   "source": [
    "top_influencers = get_top_influencers(100)\n",
    "top_influencers_list = list(top_influencers)\n",
    "print(\"Top influencers:\")\n",
    "for influencer in top_influencers_list:\n",
    "    print(\"user id:\", influencer[\"_id\"], \"Follower count\", influencer[\"followers_count\"])"
   ]
  },
  {
   "cell_type": "markdown",
   "id": "21ce03fa",
   "metadata": {},
   "source": [
    "## Assign the input tweets to the influencers"
   ]
  },
  {
   "cell_type": "code",
   "execution_count": 46,
   "id": "c303f2de",
   "metadata": {},
   "outputs": [
    {
     "ename": "ValueError",
     "evalue": "time data '27/12/2016 04:04' does not match format '%m/%d/%Y %H:%M'",
     "output_type": "error",
     "traceback": [
      "\u001b[0;31m---------------------------------------------------------------------------\u001b[0m",
      "\u001b[0;31mValueError\u001b[0m                                Traceback (most recent call last)",
      "Cell \u001b[0;32mIn[46], line 55\u001b[0m\n\u001b[1;32m     53\u001b[0m random_influencer_document \u001b[38;5;241m=\u001b[39m random\u001b[38;5;241m.\u001b[39mchoice(top_influencers_list)\n\u001b[1;32m     54\u001b[0m influencer_id \u001b[38;5;241m=\u001b[39m random_influencer_document[\u001b[38;5;124m'\u001b[39m\u001b[38;5;124m_id\u001b[39m\u001b[38;5;124m'\u001b[39m]\n\u001b[0;32m---> 55\u001b[0m date \u001b[38;5;241m=\u001b[39m \u001b[43mdatetime\u001b[49m\u001b[38;5;241;43m.\u001b[39;49m\u001b[43mstrptime\u001b[49m\u001b[43m(\u001b[49m\u001b[43mtweet_data\u001b[49m\u001b[43m[\u001b[49m\u001b[38;5;124;43m'\u001b[39;49m\u001b[38;5;124;43mdate_time\u001b[39;49m\u001b[38;5;124;43m'\u001b[39;49m\u001b[43m]\u001b[49m\u001b[43m,\u001b[49m\u001b[43m \u001b[49m\u001b[38;5;124;43m'\u001b[39;49m\u001b[38;5;124;43m%\u001b[39;49m\u001b[38;5;124;43mm/\u001b[39;49m\u001b[38;5;132;43;01m%d\u001b[39;49;00m\u001b[38;5;124;43m/\u001b[39;49m\u001b[38;5;124;43m%\u001b[39;49m\u001b[38;5;124;43mY \u001b[39;49m\u001b[38;5;124;43m%\u001b[39;49m\u001b[38;5;124;43mH:\u001b[39;49m\u001b[38;5;124;43m%\u001b[39;49m\u001b[38;5;124;43mM\u001b[39;49m\u001b[38;5;124;43m'\u001b[39;49m\u001b[43m)\u001b[49m\n\u001b[1;32m     56\u001b[0m content \u001b[38;5;241m=\u001b[39m tweet_data[\u001b[38;5;124m'\u001b[39m\u001b[38;5;124mcontent\u001b[39m\u001b[38;5;124m'\u001b[39m]\n\u001b[1;32m     57\u001b[0m temp_id \u001b[38;5;241m=\u001b[39m add_post(influencer_id, content, date)\n",
      "File \u001b[0;32m/opt/homebrew/Caskroom/miniconda/base/envs/testenv/lib/python3.9/_strptime.py:568\u001b[0m, in \u001b[0;36m_strptime_datetime\u001b[0;34m(cls, data_string, format)\u001b[0m\n\u001b[1;32m    565\u001b[0m \u001b[38;5;28;01mdef\u001b[39;00m \u001b[38;5;21m_strptime_datetime\u001b[39m(\u001b[38;5;28mcls\u001b[39m, data_string, \u001b[38;5;28mformat\u001b[39m\u001b[38;5;241m=\u001b[39m\u001b[38;5;124m\"\u001b[39m\u001b[38;5;132;01m%a\u001b[39;00m\u001b[38;5;124m \u001b[39m\u001b[38;5;124m%\u001b[39m\u001b[38;5;124mb \u001b[39m\u001b[38;5;132;01m%d\u001b[39;00m\u001b[38;5;124m \u001b[39m\u001b[38;5;124m%\u001b[39m\u001b[38;5;124mH:\u001b[39m\u001b[38;5;124m%\u001b[39m\u001b[38;5;124mM:\u001b[39m\u001b[38;5;124m%\u001b[39m\u001b[38;5;124mS \u001b[39m\u001b[38;5;124m%\u001b[39m\u001b[38;5;124mY\u001b[39m\u001b[38;5;124m\"\u001b[39m):\n\u001b[1;32m    566\u001b[0m \u001b[38;5;250m    \u001b[39m\u001b[38;5;124;03m\"\"\"Return a class cls instance based on the input string and the\u001b[39;00m\n\u001b[1;32m    567\u001b[0m \u001b[38;5;124;03m    format string.\"\"\"\u001b[39;00m\n\u001b[0;32m--> 568\u001b[0m     tt, fraction, gmtoff_fraction \u001b[38;5;241m=\u001b[39m \u001b[43m_strptime\u001b[49m\u001b[43m(\u001b[49m\u001b[43mdata_string\u001b[49m\u001b[43m,\u001b[49m\u001b[43m \u001b[49m\u001b[38;5;28;43mformat\u001b[39;49m\u001b[43m)\u001b[49m\n\u001b[1;32m    569\u001b[0m     tzname, gmtoff \u001b[38;5;241m=\u001b[39m tt[\u001b[38;5;241m-\u001b[39m\u001b[38;5;241m2\u001b[39m:]\n\u001b[1;32m    570\u001b[0m     args \u001b[38;5;241m=\u001b[39m tt[:\u001b[38;5;241m6\u001b[39m] \u001b[38;5;241m+\u001b[39m (fraction,)\n",
      "File \u001b[0;32m/opt/homebrew/Caskroom/miniconda/base/envs/testenv/lib/python3.9/_strptime.py:349\u001b[0m, in \u001b[0;36m_strptime\u001b[0;34m(data_string, format)\u001b[0m\n\u001b[1;32m    347\u001b[0m found \u001b[38;5;241m=\u001b[39m format_regex\u001b[38;5;241m.\u001b[39mmatch(data_string)\n\u001b[1;32m    348\u001b[0m \u001b[38;5;28;01mif\u001b[39;00m \u001b[38;5;129;01mnot\u001b[39;00m found:\n\u001b[0;32m--> 349\u001b[0m     \u001b[38;5;28;01mraise\u001b[39;00m \u001b[38;5;167;01mValueError\u001b[39;00m(\u001b[38;5;124m\"\u001b[39m\u001b[38;5;124mtime data \u001b[39m\u001b[38;5;132;01m%r\u001b[39;00m\u001b[38;5;124m does not match format \u001b[39m\u001b[38;5;132;01m%r\u001b[39;00m\u001b[38;5;124m\"\u001b[39m \u001b[38;5;241m%\u001b[39m\n\u001b[1;32m    350\u001b[0m                      (data_string, \u001b[38;5;28mformat\u001b[39m))\n\u001b[1;32m    351\u001b[0m \u001b[38;5;28;01mif\u001b[39;00m \u001b[38;5;28mlen\u001b[39m(data_string) \u001b[38;5;241m!=\u001b[39m found\u001b[38;5;241m.\u001b[39mend():\n\u001b[1;32m    352\u001b[0m     \u001b[38;5;28;01mraise\u001b[39;00m \u001b[38;5;167;01mValueError\u001b[39;00m(\u001b[38;5;124m\"\u001b[39m\u001b[38;5;124munconverted data remains: \u001b[39m\u001b[38;5;132;01m%s\u001b[39;00m\u001b[38;5;124m\"\u001b[39m \u001b[38;5;241m%\u001b[39m\n\u001b[1;32m    353\u001b[0m                       data_string[found\u001b[38;5;241m.\u001b[39mend():])\n",
      "\u001b[0;31mValueError\u001b[0m: time data '27/12/2016 04:04' does not match format '%m/%d/%Y %H:%M'"
     ]
    }
   ],
   "source": [
    "# Path to the CSV file\n",
    "file_path = './InputData/tweets.csv'\n",
    "\n",
    "# Function to add a post and propagate it to followers\n",
    "def add_post(user_id, content, date):\n",
    "    post = {\n",
    "        \"user_id\": user_id,\n",
    "        \"content\": content,\n",
    "        \"timestamp\": date,\n",
    "        \"likes\": 0\n",
    "    }\n",
    "    post_id = posts_collection.insert_one(post).inserted_id\n",
    "    propagate_post_to_followers(post_id, user_id, content, date)\n",
    "    return post_id\n",
    "\n",
    "# Function to propagate a post to all followers' feeds\n",
    "def propagate_post_to_followers(post_id, user_id, content, date):\n",
    "    followers = followers_collection.find({\"followed_id\": user_id})\n",
    "    for follower in followers:\n",
    "        follower_id = follower[\"follower_id\"]\n",
    "        # Check if the post_id already exists in the follower's feed\n",
    "        existing_feed = feeds_collection.find_one({\n",
    "            \"user_id\": follower_id\n",
    "        })\n",
    "        if existing_feed:\n",
    "            # Update feed entry if the post_id does not already exist in the feed\n",
    "            if not any(entry['post_id'] == post_id for entry in existing_feed['feed']):\n",
    "                feeds_collection.update_one(\n",
    "                    {\"_id\": existing_feed[\"_id\"]},\n",
    "                    {\"$push\": {\"feed\": {\"poster_id\": user_id, \"post_id\": post_id, \"content\": content, \"timestamp\": date}}}\n",
    "                )\n",
    "        else:\n",
    "            # Insert new feed entry\n",
    "            new_feed_entry = {\n",
    "                \"user_id\": follower_id,\n",
    "                \"feed\": [{\"poster_id\": user_id, \"post_id\": post_id, \"content\": content, \"timestamp\": date}]\n",
    "            }\n",
    "            feeds_collection.insert_one(new_feed_entry)\n",
    "\n",
    "df = pd.read_csv(file_path)\n",
    "tweets_map = df.to_dict(orient='index')\n",
    "\n",
    "tweets_ids = []\n",
    "\n",
    "for idx, tweet_data in tweets_map.items():\n",
    "    random_influencer_document = random.choice(top_influencers_list)\n",
    "    influencer_id = random_influencer_document['_id']\n",
    "    date = datetime.strptime(tweet_data['date_time'], '%d/%m/%Y %H:%M')\n",
    "    content = tweet_data['content']\n",
    "    temp_id = add_post(influencer_id, content, date)\n",
    "    tweets_ids.append(temp_id)\n"
   ]
  },
  {
   "cell_type": "code",
   "execution_count": 9,
   "id": "52d5b044",
   "metadata": {},
   "outputs": [
    {
     "ename": "KeyboardInterrupt",
     "evalue": "",
     "output_type": "error",
     "traceback": [
      "\u001b[0;31m---------------------------------------------------------------------------\u001b[0m",
      "\u001b[0;31mKeyboardInterrupt\u001b[0m                         Traceback (most recent call last)",
      "Cell \u001b[0;32mIn[9], line 12\u001b[0m\n\u001b[1;32m     10\u001b[0m random_influencer_document \u001b[38;5;241m=\u001b[39m random\u001b[38;5;241m.\u001b[39mchoice(top_influencers_list)\n\u001b[1;32m     11\u001b[0m influencer_id \u001b[38;5;241m=\u001b[39m random_influencer_document[\u001b[38;5;124m'\u001b[39m\u001b[38;5;124m_id\u001b[39m\u001b[38;5;124m'\u001b[39m]\n\u001b[0;32m---> 12\u001b[0m temp_id \u001b[38;5;241m=\u001b[39m \u001b[43madd_post\u001b[49m\u001b[43m(\u001b[49m\u001b[43minfluencer_id\u001b[49m\u001b[43m,\u001b[49m\u001b[43m \u001b[49m\u001b[43mvalue\u001b[49m\u001b[43m[\u001b[49m\u001b[38;5;124;43m'\u001b[39;49m\u001b[38;5;124;43mtweet\u001b[39;49m\u001b[38;5;124;43m'\u001b[39;49m\u001b[43m]\u001b[49m\u001b[43m,\u001b[49m\u001b[43m \u001b[49m\u001b[43mvalue\u001b[49m\u001b[43m[\u001b[49m\u001b[38;5;124;43m'\u001b[39;49m\u001b[38;5;124;43mdate\u001b[39;49m\u001b[38;5;124;43m'\u001b[39;49m\u001b[43m]\u001b[49m\u001b[43m)\u001b[49m\n\u001b[1;32m     13\u001b[0m tweets_ids\u001b[38;5;241m.\u001b[39mappend(temp_id)\n",
      "Cell \u001b[0;32mIn[6], line 26\u001b[0m, in \u001b[0;36madd_post\u001b[0;34m(user_id, content, date)\u001b[0m\n\u001b[1;32m     19\u001b[0m post \u001b[38;5;241m=\u001b[39m {\n\u001b[1;32m     20\u001b[0m     \u001b[38;5;124m\"\u001b[39m\u001b[38;5;124muser_id\u001b[39m\u001b[38;5;124m\"\u001b[39m: user_id,\n\u001b[1;32m     21\u001b[0m     \u001b[38;5;124m\"\u001b[39m\u001b[38;5;124mcontent\u001b[39m\u001b[38;5;124m\"\u001b[39m: content,\n\u001b[1;32m     22\u001b[0m     \u001b[38;5;124m\"\u001b[39m\u001b[38;5;124mtimestamp\u001b[39m\u001b[38;5;124m\"\u001b[39m: date,\n\u001b[1;32m     23\u001b[0m     \u001b[38;5;124m\"\u001b[39m\u001b[38;5;124mlikes\u001b[39m\u001b[38;5;124m\"\u001b[39m: \u001b[38;5;241m0\u001b[39m\n\u001b[1;32m     24\u001b[0m }\n\u001b[1;32m     25\u001b[0m post_id \u001b[38;5;241m=\u001b[39m posts_collection\u001b[38;5;241m.\u001b[39minsert_one(post)\u001b[38;5;241m.\u001b[39minserted_id\n\u001b[0;32m---> 26\u001b[0m \u001b[43mpropagate_post_to_followers\u001b[49m\u001b[43m(\u001b[49m\u001b[43mpost_id\u001b[49m\u001b[43m,\u001b[49m\u001b[43m \u001b[49m\u001b[43muser_id\u001b[49m\u001b[43m,\u001b[49m\u001b[43m \u001b[49m\u001b[43mcontent\u001b[49m\u001b[43m,\u001b[49m\u001b[43m \u001b[49m\u001b[43mdate\u001b[49m\u001b[43m)\u001b[49m\n\u001b[1;32m     27\u001b[0m \u001b[38;5;28;01mreturn\u001b[39;00m post_id\n",
      "Cell \u001b[0;32mIn[6], line 32\u001b[0m, in \u001b[0;36mpropagate_post_to_followers\u001b[0;34m(post_id, user_id, content, date)\u001b[0m\n\u001b[1;32m     30\u001b[0m \u001b[38;5;28;01mdef\u001b[39;00m \u001b[38;5;21mpropagate_post_to_followers\u001b[39m(post_id, user_id, content, date):\n\u001b[1;32m     31\u001b[0m     followers \u001b[38;5;241m=\u001b[39m followers_collection\u001b[38;5;241m.\u001b[39mfind({\u001b[38;5;124m\"\u001b[39m\u001b[38;5;124mfollowed_id\u001b[39m\u001b[38;5;124m\"\u001b[39m: user_id})\n\u001b[0;32m---> 32\u001b[0m     \u001b[38;5;28;01mfor\u001b[39;00m follower \u001b[38;5;129;01min\u001b[39;00m followers:\n\u001b[1;32m     33\u001b[0m         feed_entry \u001b[38;5;241m=\u001b[39m {\n\u001b[1;32m     34\u001b[0m             \u001b[38;5;124m\"\u001b[39m\u001b[38;5;124muser_id\u001b[39m\u001b[38;5;124m\"\u001b[39m: follower[\u001b[38;5;124m\"\u001b[39m\u001b[38;5;124mfollower_id\u001b[39m\u001b[38;5;124m\"\u001b[39m],\n\u001b[1;32m     35\u001b[0m             \u001b[38;5;124m\"\u001b[39m\u001b[38;5;124mpost_id\u001b[39m\u001b[38;5;124m\"\u001b[39m: post_id,\n\u001b[0;32m   (...)\u001b[0m\n\u001b[1;32m     39\u001b[0m             \u001b[38;5;124m\"\u001b[39m\u001b[38;5;124mlikes\u001b[39m\u001b[38;5;124m\"\u001b[39m: \u001b[38;5;241m0\u001b[39m\n\u001b[1;32m     40\u001b[0m         }\n\u001b[1;32m     41\u001b[0m         feeds_collection\u001b[38;5;241m.\u001b[39minsert_one(feed_entry)\n",
      "File \u001b[0;32m~/Documents/Repositories/BDEA/BDEA24_GruppeD_Aufgabe3/.venv/lib/python3.9/site-packages/pymongo/cursor.py:1243\u001b[0m, in \u001b[0;36mCursor.next\u001b[0;34m(self)\u001b[0m\n\u001b[1;32m   1241\u001b[0m \u001b[38;5;28;01mif\u001b[39;00m \u001b[38;5;28mself\u001b[39m\u001b[38;5;241m.\u001b[39m__empty:\n\u001b[1;32m   1242\u001b[0m     \u001b[38;5;28;01mraise\u001b[39;00m \u001b[38;5;167;01mStopIteration\u001b[39;00m\n\u001b[0;32m-> 1243\u001b[0m \u001b[38;5;28;01mif\u001b[39;00m \u001b[38;5;28mlen\u001b[39m(\u001b[38;5;28mself\u001b[39m\u001b[38;5;241m.\u001b[39m__data) \u001b[38;5;129;01mor\u001b[39;00m \u001b[38;5;28;43mself\u001b[39;49m\u001b[38;5;241;43m.\u001b[39;49m\u001b[43m_refresh\u001b[49m\u001b[43m(\u001b[49m\u001b[43m)\u001b[49m:\n\u001b[1;32m   1244\u001b[0m     \u001b[38;5;28;01mreturn\u001b[39;00m \u001b[38;5;28mself\u001b[39m\u001b[38;5;241m.\u001b[39m__data\u001b[38;5;241m.\u001b[39mpopleft()\n\u001b[1;32m   1245\u001b[0m \u001b[38;5;28;01melse\u001b[39;00m:\n",
      "File \u001b[0;32m~/Documents/Repositories/BDEA/BDEA24_GruppeD_Aufgabe3/.venv/lib/python3.9/site-packages/pymongo/cursor.py:1183\u001b[0m, in \u001b[0;36mCursor._refresh\u001b[0;34m(self)\u001b[0m\n\u001b[1;32m   1168\u001b[0m     \u001b[38;5;66;03m# Exhaust cursors don't send getMore messages.\u001b[39;00m\n\u001b[1;32m   1169\u001b[0m     g \u001b[38;5;241m=\u001b[39m \u001b[38;5;28mself\u001b[39m\u001b[38;5;241m.\u001b[39m_getmore_class(\n\u001b[1;32m   1170\u001b[0m         \u001b[38;5;28mself\u001b[39m\u001b[38;5;241m.\u001b[39m__dbname,\n\u001b[1;32m   1171\u001b[0m         \u001b[38;5;28mself\u001b[39m\u001b[38;5;241m.\u001b[39m__collname,\n\u001b[0;32m   (...)\u001b[0m\n\u001b[1;32m   1181\u001b[0m         \u001b[38;5;28mself\u001b[39m\u001b[38;5;241m.\u001b[39m__comment,\n\u001b[1;32m   1182\u001b[0m     )\n\u001b[0;32m-> 1183\u001b[0m     \u001b[38;5;28;43mself\u001b[39;49m\u001b[38;5;241;43m.\u001b[39;49m\u001b[43m__send_message\u001b[49m\u001b[43m(\u001b[49m\u001b[43mg\u001b[49m\u001b[43m)\u001b[49m\n\u001b[1;32m   1185\u001b[0m \u001b[38;5;28;01mreturn\u001b[39;00m \u001b[38;5;28mlen\u001b[39m(\u001b[38;5;28mself\u001b[39m\u001b[38;5;241m.\u001b[39m__data)\n",
      "File \u001b[0;32m~/Documents/Repositories/BDEA/BDEA24_GruppeD_Aufgabe3/.venv/lib/python3.9/site-packages/pymongo/cursor.py:1039\u001b[0m, in \u001b[0;36mCursor.__send_message\u001b[0;34m(self, operation)\u001b[0m\n\u001b[1;32m   1036\u001b[0m     \u001b[38;5;28;01mraise\u001b[39;00m InvalidOperation(\u001b[38;5;124m\"\u001b[39m\u001b[38;5;124mexhaust cursors do not support auto encryption\u001b[39m\u001b[38;5;124m\"\u001b[39m)\n\u001b[1;32m   1038\u001b[0m \u001b[38;5;28;01mtry\u001b[39;00m:\n\u001b[0;32m-> 1039\u001b[0m     response \u001b[38;5;241m=\u001b[39m \u001b[43mclient\u001b[49m\u001b[38;5;241;43m.\u001b[39;49m\u001b[43m_run_operation\u001b[49m\u001b[43m(\u001b[49m\n\u001b[1;32m   1040\u001b[0m \u001b[43m        \u001b[49m\u001b[43moperation\u001b[49m\u001b[43m,\u001b[49m\u001b[43m \u001b[49m\u001b[38;5;28;43mself\u001b[39;49m\u001b[38;5;241;43m.\u001b[39;49m\u001b[43m_unpack_response\u001b[49m\u001b[43m,\u001b[49m\u001b[43m \u001b[49m\u001b[43maddress\u001b[49m\u001b[38;5;241;43m=\u001b[39;49m\u001b[38;5;28;43mself\u001b[39;49m\u001b[38;5;241;43m.\u001b[39;49m\u001b[43m__address\u001b[49m\n\u001b[1;32m   1041\u001b[0m \u001b[43m    \u001b[49m\u001b[43m)\u001b[49m\n\u001b[1;32m   1042\u001b[0m \u001b[38;5;28;01mexcept\u001b[39;00m OperationFailure \u001b[38;5;28;01mas\u001b[39;00m exc:\n\u001b[1;32m   1043\u001b[0m     \u001b[38;5;28;01mif\u001b[39;00m exc\u001b[38;5;241m.\u001b[39mcode \u001b[38;5;129;01min\u001b[39;00m _CURSOR_CLOSED_ERRORS \u001b[38;5;129;01mor\u001b[39;00m \u001b[38;5;28mself\u001b[39m\u001b[38;5;241m.\u001b[39m__exhaust:\n\u001b[1;32m   1044\u001b[0m         \u001b[38;5;66;03m# Don't send killCursors because the cursor is already closed.\u001b[39;00m\n",
      "File \u001b[0;32m~/Documents/Repositories/BDEA/BDEA24_GruppeD_Aufgabe3/.venv/lib/python3.9/site-packages/pymongo/_csot.py:108\u001b[0m, in \u001b[0;36mapply.<locals>.csot_wrapper\u001b[0;34m(self, *args, **kwargs)\u001b[0m\n\u001b[1;32m    106\u001b[0m         \u001b[38;5;28;01mwith\u001b[39;00m _TimeoutContext(timeout):\n\u001b[1;32m    107\u001b[0m             \u001b[38;5;28;01mreturn\u001b[39;00m func(\u001b[38;5;28mself\u001b[39m, \u001b[38;5;241m*\u001b[39margs, \u001b[38;5;241m*\u001b[39m\u001b[38;5;241m*\u001b[39mkwargs)\n\u001b[0;32m--> 108\u001b[0m \u001b[38;5;28;01mreturn\u001b[39;00m \u001b[43mfunc\u001b[49m\u001b[43m(\u001b[49m\u001b[38;5;28;43mself\u001b[39;49m\u001b[43m,\u001b[49m\u001b[43m \u001b[49m\u001b[38;5;241;43m*\u001b[39;49m\u001b[43margs\u001b[49m\u001b[43m,\u001b[49m\u001b[43m \u001b[49m\u001b[38;5;241;43m*\u001b[39;49m\u001b[38;5;241;43m*\u001b[39;49m\u001b[43mkwargs\u001b[49m\u001b[43m)\u001b[49m\n",
      "File \u001b[0;32m~/Documents/Repositories/BDEA/BDEA24_GruppeD_Aufgabe3/.venv/lib/python3.9/site-packages/pymongo/mongo_client.py:1425\u001b[0m, in \u001b[0;36mMongoClient._run_operation\u001b[0;34m(self, operation, unpack_res, address)\u001b[0m\n\u001b[1;32m   1415\u001b[0m     operation\u001b[38;5;241m.\u001b[39mreset()  \u001b[38;5;66;03m# Reset op in case of retry.\u001b[39;00m\n\u001b[1;32m   1416\u001b[0m     \u001b[38;5;28;01mreturn\u001b[39;00m server\u001b[38;5;241m.\u001b[39mrun_operation(\n\u001b[1;32m   1417\u001b[0m         conn,\n\u001b[1;32m   1418\u001b[0m         operation,\n\u001b[0;32m   (...)\u001b[0m\n\u001b[1;32m   1422\u001b[0m         \u001b[38;5;28mself\u001b[39m,\n\u001b[1;32m   1423\u001b[0m     )\n\u001b[0;32m-> 1425\u001b[0m \u001b[38;5;28;01mreturn\u001b[39;00m \u001b[38;5;28;43mself\u001b[39;49m\u001b[38;5;241;43m.\u001b[39;49m\u001b[43m_retryable_read\u001b[49m\u001b[43m(\u001b[49m\n\u001b[1;32m   1426\u001b[0m \u001b[43m    \u001b[49m\u001b[43m_cmd\u001b[49m\u001b[43m,\u001b[49m\n\u001b[1;32m   1427\u001b[0m \u001b[43m    \u001b[49m\u001b[43moperation\u001b[49m\u001b[38;5;241;43m.\u001b[39;49m\u001b[43mread_preference\u001b[49m\u001b[43m,\u001b[49m\n\u001b[1;32m   1428\u001b[0m \u001b[43m    \u001b[49m\u001b[43moperation\u001b[49m\u001b[38;5;241;43m.\u001b[39;49m\u001b[43msession\u001b[49m\u001b[43m,\u001b[49m\n\u001b[1;32m   1429\u001b[0m \u001b[43m    \u001b[49m\u001b[43maddress\u001b[49m\u001b[38;5;241;43m=\u001b[39;49m\u001b[43maddress\u001b[49m\u001b[43m,\u001b[49m\n\u001b[1;32m   1430\u001b[0m \u001b[43m    \u001b[49m\u001b[43mretryable\u001b[49m\u001b[38;5;241;43m=\u001b[39;49m\u001b[38;5;28;43misinstance\u001b[39;49m\u001b[43m(\u001b[49m\u001b[43moperation\u001b[49m\u001b[43m,\u001b[49m\u001b[43m \u001b[49m\u001b[43mmessage\u001b[49m\u001b[38;5;241;43m.\u001b[39;49m\u001b[43m_Query\u001b[49m\u001b[43m)\u001b[49m\u001b[43m,\u001b[49m\n\u001b[1;32m   1431\u001b[0m \u001b[43m    \u001b[49m\u001b[43moperation\u001b[49m\u001b[38;5;241;43m=\u001b[39;49m\u001b[43moperation\u001b[49m\u001b[38;5;241;43m.\u001b[39;49m\u001b[43mname\u001b[49m\u001b[43m,\u001b[49m\n\u001b[1;32m   1432\u001b[0m \u001b[43m\u001b[49m\u001b[43m)\u001b[49m\n",
      "File \u001b[0;32m~/Documents/Repositories/BDEA/BDEA24_GruppeD_Aufgabe3/.venv/lib/python3.9/site-packages/pymongo/mongo_client.py:1534\u001b[0m, in \u001b[0;36mMongoClient._retryable_read\u001b[0;34m(self, func, read_pref, session, operation, address, retryable, operation_id)\u001b[0m\n\u001b[1;32m   1529\u001b[0m \u001b[38;5;66;03m# Ensure that the client supports retrying on reads and there is no session in\u001b[39;00m\n\u001b[1;32m   1530\u001b[0m \u001b[38;5;66;03m# transaction, otherwise, we will not support retry behavior for this call.\u001b[39;00m\n\u001b[1;32m   1531\u001b[0m retryable \u001b[38;5;241m=\u001b[39m \u001b[38;5;28mbool\u001b[39m(\n\u001b[1;32m   1532\u001b[0m     retryable \u001b[38;5;129;01mand\u001b[39;00m \u001b[38;5;28mself\u001b[39m\u001b[38;5;241m.\u001b[39moptions\u001b[38;5;241m.\u001b[39mretry_reads \u001b[38;5;129;01mand\u001b[39;00m \u001b[38;5;129;01mnot\u001b[39;00m (session \u001b[38;5;129;01mand\u001b[39;00m session\u001b[38;5;241m.\u001b[39min_transaction)\n\u001b[1;32m   1533\u001b[0m )\n\u001b[0;32m-> 1534\u001b[0m \u001b[38;5;28;01mreturn\u001b[39;00m \u001b[38;5;28;43mself\u001b[39;49m\u001b[38;5;241;43m.\u001b[39;49m\u001b[43m_retry_internal\u001b[49m\u001b[43m(\u001b[49m\n\u001b[1;32m   1535\u001b[0m \u001b[43m    \u001b[49m\u001b[43mfunc\u001b[49m\u001b[43m,\u001b[49m\n\u001b[1;32m   1536\u001b[0m \u001b[43m    \u001b[49m\u001b[43msession\u001b[49m\u001b[43m,\u001b[49m\n\u001b[1;32m   1537\u001b[0m \u001b[43m    \u001b[49m\u001b[38;5;28;43;01mNone\u001b[39;49;00m\u001b[43m,\u001b[49m\n\u001b[1;32m   1538\u001b[0m \u001b[43m    \u001b[49m\u001b[43moperation\u001b[49m\u001b[43m,\u001b[49m\n\u001b[1;32m   1539\u001b[0m \u001b[43m    \u001b[49m\u001b[43mis_read\u001b[49m\u001b[38;5;241;43m=\u001b[39;49m\u001b[38;5;28;43;01mTrue\u001b[39;49;00m\u001b[43m,\u001b[49m\n\u001b[1;32m   1540\u001b[0m \u001b[43m    \u001b[49m\u001b[43maddress\u001b[49m\u001b[38;5;241;43m=\u001b[39;49m\u001b[43maddress\u001b[49m\u001b[43m,\u001b[49m\n\u001b[1;32m   1541\u001b[0m \u001b[43m    \u001b[49m\u001b[43mread_pref\u001b[49m\u001b[38;5;241;43m=\u001b[39;49m\u001b[43mread_pref\u001b[49m\u001b[43m,\u001b[49m\n\u001b[1;32m   1542\u001b[0m \u001b[43m    \u001b[49m\u001b[43mretryable\u001b[49m\u001b[38;5;241;43m=\u001b[39;49m\u001b[43mretryable\u001b[49m\u001b[43m,\u001b[49m\n\u001b[1;32m   1543\u001b[0m \u001b[43m    \u001b[49m\u001b[43moperation_id\u001b[49m\u001b[38;5;241;43m=\u001b[39;49m\u001b[43moperation_id\u001b[49m\u001b[43m,\u001b[49m\n\u001b[1;32m   1544\u001b[0m \u001b[43m\u001b[49m\u001b[43m)\u001b[49m\n",
      "File \u001b[0;32m~/Documents/Repositories/BDEA/BDEA24_GruppeD_Aufgabe3/.venv/lib/python3.9/site-packages/pymongo/_csot.py:108\u001b[0m, in \u001b[0;36mapply.<locals>.csot_wrapper\u001b[0;34m(self, *args, **kwargs)\u001b[0m\n\u001b[1;32m    106\u001b[0m         \u001b[38;5;28;01mwith\u001b[39;00m _TimeoutContext(timeout):\n\u001b[1;32m    107\u001b[0m             \u001b[38;5;28;01mreturn\u001b[39;00m func(\u001b[38;5;28mself\u001b[39m, \u001b[38;5;241m*\u001b[39margs, \u001b[38;5;241m*\u001b[39m\u001b[38;5;241m*\u001b[39mkwargs)\n\u001b[0;32m--> 108\u001b[0m \u001b[38;5;28;01mreturn\u001b[39;00m \u001b[43mfunc\u001b[49m\u001b[43m(\u001b[49m\u001b[38;5;28;43mself\u001b[39;49m\u001b[43m,\u001b[49m\u001b[43m \u001b[49m\u001b[38;5;241;43m*\u001b[39;49m\u001b[43margs\u001b[49m\u001b[43m,\u001b[49m\u001b[43m \u001b[49m\u001b[38;5;241;43m*\u001b[39;49m\u001b[38;5;241;43m*\u001b[39;49m\u001b[43mkwargs\u001b[49m\u001b[43m)\u001b[49m\n",
      "File \u001b[0;32m~/Documents/Repositories/BDEA/BDEA24_GruppeD_Aufgabe3/.venv/lib/python3.9/site-packages/pymongo/mongo_client.py:1490\u001b[0m, in \u001b[0;36mMongoClient._retry_internal\u001b[0;34m(self, func, session, bulk, operation, is_read, address, read_pref, retryable, operation_id)\u001b[0m\n\u001b[1;32m   1464\u001b[0m \u001b[38;5;129m@_csot\u001b[39m\u001b[38;5;241m.\u001b[39mapply\n\u001b[1;32m   1465\u001b[0m \u001b[38;5;28;01mdef\u001b[39;00m \u001b[38;5;21m_retry_internal\u001b[39m(\n\u001b[1;32m   1466\u001b[0m     \u001b[38;5;28mself\u001b[39m,\n\u001b[0;32m   (...)\u001b[0m\n\u001b[1;32m   1475\u001b[0m     operation_id: Optional[\u001b[38;5;28mint\u001b[39m] \u001b[38;5;241m=\u001b[39m \u001b[38;5;28;01mNone\u001b[39;00m,\n\u001b[1;32m   1476\u001b[0m ) \u001b[38;5;241m-\u001b[39m\u001b[38;5;241m>\u001b[39m T:\n\u001b[1;32m   1477\u001b[0m \u001b[38;5;250m    \u001b[39m\u001b[38;5;124;03m\"\"\"Internal retryable helper for all client transactions.\u001b[39;00m\n\u001b[1;32m   1478\u001b[0m \n\u001b[1;32m   1479\u001b[0m \u001b[38;5;124;03m    :param func: Callback function we want to retry\u001b[39;00m\n\u001b[0;32m   (...)\u001b[0m\n\u001b[1;32m   1488\u001b[0m \u001b[38;5;124;03m    :return: Output of the calling func()\u001b[39;00m\n\u001b[1;32m   1489\u001b[0m \u001b[38;5;124;03m    \"\"\"\u001b[39;00m\n\u001b[0;32m-> 1490\u001b[0m     \u001b[38;5;28;01mreturn\u001b[39;00m \u001b[43m_ClientConnectionRetryable\u001b[49m\u001b[43m(\u001b[49m\n\u001b[1;32m   1491\u001b[0m \u001b[43m        \u001b[49m\u001b[43mmongo_client\u001b[49m\u001b[38;5;241;43m=\u001b[39;49m\u001b[38;5;28;43mself\u001b[39;49m\u001b[43m,\u001b[49m\n\u001b[1;32m   1492\u001b[0m \u001b[43m        \u001b[49m\u001b[43mfunc\u001b[49m\u001b[38;5;241;43m=\u001b[39;49m\u001b[43mfunc\u001b[49m\u001b[43m,\u001b[49m\n\u001b[1;32m   1493\u001b[0m \u001b[43m        \u001b[49m\u001b[43mbulk\u001b[49m\u001b[38;5;241;43m=\u001b[39;49m\u001b[43mbulk\u001b[49m\u001b[43m,\u001b[49m\n\u001b[1;32m   1494\u001b[0m \u001b[43m        \u001b[49m\u001b[43moperation\u001b[49m\u001b[38;5;241;43m=\u001b[39;49m\u001b[43moperation\u001b[49m\u001b[43m,\u001b[49m\n\u001b[1;32m   1495\u001b[0m \u001b[43m        \u001b[49m\u001b[43mis_read\u001b[49m\u001b[38;5;241;43m=\u001b[39;49m\u001b[43mis_read\u001b[49m\u001b[43m,\u001b[49m\n\u001b[1;32m   1496\u001b[0m \u001b[43m        \u001b[49m\u001b[43msession\u001b[49m\u001b[38;5;241;43m=\u001b[39;49m\u001b[43msession\u001b[49m\u001b[43m,\u001b[49m\n\u001b[1;32m   1497\u001b[0m \u001b[43m        \u001b[49m\u001b[43mread_pref\u001b[49m\u001b[38;5;241;43m=\u001b[39;49m\u001b[43mread_pref\u001b[49m\u001b[43m,\u001b[49m\n\u001b[1;32m   1498\u001b[0m \u001b[43m        \u001b[49m\u001b[43maddress\u001b[49m\u001b[38;5;241;43m=\u001b[39;49m\u001b[43maddress\u001b[49m\u001b[43m,\u001b[49m\n\u001b[1;32m   1499\u001b[0m \u001b[43m        \u001b[49m\u001b[43mretryable\u001b[49m\u001b[38;5;241;43m=\u001b[39;49m\u001b[43mretryable\u001b[49m\u001b[43m,\u001b[49m\n\u001b[1;32m   1500\u001b[0m \u001b[43m        \u001b[49m\u001b[43moperation_id\u001b[49m\u001b[38;5;241;43m=\u001b[39;49m\u001b[43moperation_id\u001b[49m\u001b[43m,\u001b[49m\n\u001b[1;32m   1501\u001b[0m \u001b[43m    \u001b[49m\u001b[43m)\u001b[49m\u001b[38;5;241;43m.\u001b[39;49m\u001b[43mrun\u001b[49m\u001b[43m(\u001b[49m\u001b[43m)\u001b[49m\n",
      "File \u001b[0;32m~/Documents/Repositories/BDEA/BDEA24_GruppeD_Aufgabe3/.venv/lib/python3.9/site-packages/pymongo/mongo_client.py:2347\u001b[0m, in \u001b[0;36m_ClientConnectionRetryable.run\u001b[0;34m(self)\u001b[0m\n\u001b[1;32m   2345\u001b[0m \u001b[38;5;28mself\u001b[39m\u001b[38;5;241m.\u001b[39m_check_last_error(check_csot\u001b[38;5;241m=\u001b[39m\u001b[38;5;28;01mTrue\u001b[39;00m)\n\u001b[1;32m   2346\u001b[0m \u001b[38;5;28;01mtry\u001b[39;00m:\n\u001b[0;32m-> 2347\u001b[0m     \u001b[38;5;28;01mreturn\u001b[39;00m \u001b[38;5;28;43mself\u001b[39;49m\u001b[38;5;241;43m.\u001b[39;49m\u001b[43m_read\u001b[49m\u001b[43m(\u001b[49m\u001b[43m)\u001b[49m \u001b[38;5;28;01mif\u001b[39;00m \u001b[38;5;28mself\u001b[39m\u001b[38;5;241m.\u001b[39m_is_read \u001b[38;5;28;01melse\u001b[39;00m \u001b[38;5;28mself\u001b[39m\u001b[38;5;241m.\u001b[39m_write()\n\u001b[1;32m   2348\u001b[0m \u001b[38;5;28;01mexcept\u001b[39;00m ServerSelectionTimeoutError:\n\u001b[1;32m   2349\u001b[0m     \u001b[38;5;66;03m# The application may think the write was never attempted\u001b[39;00m\n\u001b[1;32m   2350\u001b[0m     \u001b[38;5;66;03m# if we raise ServerSelectionTimeoutError on the retry\u001b[39;00m\n\u001b[1;32m   2351\u001b[0m     \u001b[38;5;66;03m# attempt. Raise the original exception instead.\u001b[39;00m\n\u001b[1;32m   2352\u001b[0m     \u001b[38;5;28mself\u001b[39m\u001b[38;5;241m.\u001b[39m_check_last_error()\n",
      "File \u001b[0;32m~/Documents/Repositories/BDEA/BDEA24_GruppeD_Aufgabe3/.venv/lib/python3.9/site-packages/pymongo/mongo_client.py:2485\u001b[0m, in \u001b[0;36m_ClientConnectionRetryable._read\u001b[0;34m(self)\u001b[0m\n\u001b[1;32m   2483\u001b[0m \u001b[38;5;28;01mif\u001b[39;00m \u001b[38;5;28mself\u001b[39m\u001b[38;5;241m.\u001b[39m_retrying \u001b[38;5;129;01mand\u001b[39;00m \u001b[38;5;129;01mnot\u001b[39;00m \u001b[38;5;28mself\u001b[39m\u001b[38;5;241m.\u001b[39m_retryable:\n\u001b[1;32m   2484\u001b[0m     \u001b[38;5;28mself\u001b[39m\u001b[38;5;241m.\u001b[39m_check_last_error()\n\u001b[0;32m-> 2485\u001b[0m \u001b[38;5;28;01mreturn\u001b[39;00m \u001b[38;5;28;43mself\u001b[39;49m\u001b[38;5;241;43m.\u001b[39;49m\u001b[43m_func\u001b[49m\u001b[43m(\u001b[49m\u001b[38;5;28;43mself\u001b[39;49m\u001b[38;5;241;43m.\u001b[39;49m\u001b[43m_session\u001b[49m\u001b[43m,\u001b[49m\u001b[43m \u001b[49m\u001b[38;5;28;43mself\u001b[39;49m\u001b[38;5;241;43m.\u001b[39;49m\u001b[43m_server\u001b[49m\u001b[43m,\u001b[49m\u001b[43m \u001b[49m\u001b[43mconn\u001b[49m\u001b[43m,\u001b[49m\u001b[43m \u001b[49m\u001b[43mread_pref\u001b[49m\u001b[43m)\u001b[49m\n",
      "File \u001b[0;32m~/Documents/Repositories/BDEA/BDEA24_GruppeD_Aufgabe3/.venv/lib/python3.9/site-packages/pymongo/mongo_client.py:1416\u001b[0m, in \u001b[0;36mMongoClient._run_operation.<locals>._cmd\u001b[0;34m(_session, server, conn, read_preference)\u001b[0m\n\u001b[1;32m   1409\u001b[0m \u001b[38;5;28;01mdef\u001b[39;00m \u001b[38;5;21m_cmd\u001b[39m(\n\u001b[1;32m   1410\u001b[0m     _session: Optional[ClientSession],\n\u001b[1;32m   1411\u001b[0m     server: Server,\n\u001b[1;32m   1412\u001b[0m     conn: Connection,\n\u001b[1;32m   1413\u001b[0m     read_preference: _ServerMode,\n\u001b[1;32m   1414\u001b[0m ) \u001b[38;5;241m-\u001b[39m\u001b[38;5;241m>\u001b[39m Response:\n\u001b[1;32m   1415\u001b[0m     operation\u001b[38;5;241m.\u001b[39mreset()  \u001b[38;5;66;03m# Reset op in case of retry.\u001b[39;00m\n\u001b[0;32m-> 1416\u001b[0m     \u001b[38;5;28;01mreturn\u001b[39;00m \u001b[43mserver\u001b[49m\u001b[38;5;241;43m.\u001b[39;49m\u001b[43mrun_operation\u001b[49m\u001b[43m(\u001b[49m\n\u001b[1;32m   1417\u001b[0m \u001b[43m        \u001b[49m\u001b[43mconn\u001b[49m\u001b[43m,\u001b[49m\n\u001b[1;32m   1418\u001b[0m \u001b[43m        \u001b[49m\u001b[43moperation\u001b[49m\u001b[43m,\u001b[49m\n\u001b[1;32m   1419\u001b[0m \u001b[43m        \u001b[49m\u001b[43mread_preference\u001b[49m\u001b[43m,\u001b[49m\n\u001b[1;32m   1420\u001b[0m \u001b[43m        \u001b[49m\u001b[38;5;28;43mself\u001b[39;49m\u001b[38;5;241;43m.\u001b[39;49m\u001b[43m_event_listeners\u001b[49m\u001b[43m,\u001b[49m\n\u001b[1;32m   1421\u001b[0m \u001b[43m        \u001b[49m\u001b[43munpack_res\u001b[49m\u001b[43m,\u001b[49m\n\u001b[1;32m   1422\u001b[0m \u001b[43m        \u001b[49m\u001b[38;5;28;43mself\u001b[39;49m\u001b[43m,\u001b[49m\n\u001b[1;32m   1423\u001b[0m \u001b[43m    \u001b[49m\u001b[43m)\u001b[49m\n",
      "File \u001b[0;32m~/Documents/Repositories/BDEA/BDEA24_GruppeD_Aufgabe3/.venv/lib/python3.9/site-packages/pymongo/helpers.py:342\u001b[0m, in \u001b[0;36m_handle_reauth.<locals>.inner\u001b[0;34m(*args, **kwargs)\u001b[0m\n\u001b[1;32m    339\u001b[0m \u001b[38;5;28;01mfrom\u001b[39;00m \u001b[38;5;21;01mpymongo\u001b[39;00m\u001b[38;5;21;01m.\u001b[39;00m\u001b[38;5;21;01mpool\u001b[39;00m \u001b[38;5;28;01mimport\u001b[39;00m Connection\n\u001b[1;32m    341\u001b[0m \u001b[38;5;28;01mtry\u001b[39;00m:\n\u001b[0;32m--> 342\u001b[0m     \u001b[38;5;28;01mreturn\u001b[39;00m \u001b[43mfunc\u001b[49m\u001b[43m(\u001b[49m\u001b[38;5;241;43m*\u001b[39;49m\u001b[43margs\u001b[49m\u001b[43m,\u001b[49m\u001b[43m \u001b[49m\u001b[38;5;241;43m*\u001b[39;49m\u001b[38;5;241;43m*\u001b[39;49m\u001b[43mkwargs\u001b[49m\u001b[43m)\u001b[49m\n\u001b[1;32m    343\u001b[0m \u001b[38;5;28;01mexcept\u001b[39;00m OperationFailure \u001b[38;5;28;01mas\u001b[39;00m exc:\n\u001b[1;32m    344\u001b[0m     \u001b[38;5;28;01mif\u001b[39;00m no_reauth:\n",
      "File \u001b[0;32m~/Documents/Repositories/BDEA/BDEA24_GruppeD_Aufgabe3/.venv/lib/python3.9/site-packages/pymongo/server.py:171\u001b[0m, in \u001b[0;36mServer.run_operation\u001b[0;34m(self, conn, operation, read_preference, listeners, unpack_res, client)\u001b[0m\n\u001b[1;32m    169\u001b[0m \u001b[38;5;28;01melse\u001b[39;00m:\n\u001b[1;32m    170\u001b[0m     conn\u001b[38;5;241m.\u001b[39msend_message(data, max_doc_size)\n\u001b[0;32m--> 171\u001b[0m     reply \u001b[38;5;241m=\u001b[39m \u001b[43mconn\u001b[49m\u001b[38;5;241;43m.\u001b[39;49m\u001b[43mreceive_message\u001b[49m\u001b[43m(\u001b[49m\u001b[43mrequest_id\u001b[49m\u001b[43m)\u001b[49m\n\u001b[1;32m    173\u001b[0m \u001b[38;5;66;03m# Unpack and check for command errors.\u001b[39;00m\n\u001b[1;32m    174\u001b[0m \u001b[38;5;28;01mif\u001b[39;00m use_cmd:\n",
      "File \u001b[0;32m~/Documents/Repositories/BDEA/BDEA24_GruppeD_Aufgabe3/.venv/lib/python3.9/site-packages/pymongo/pool.py:1042\u001b[0m, in \u001b[0;36mConnection.receive_message\u001b[0;34m(self, request_id)\u001b[0m\n\u001b[1;32m   1040\u001b[0m     \u001b[38;5;28;01mreturn\u001b[39;00m receive_message(\u001b[38;5;28mself\u001b[39m, request_id, \u001b[38;5;28mself\u001b[39m\u001b[38;5;241m.\u001b[39mmax_message_size)\n\u001b[1;32m   1041\u001b[0m \u001b[38;5;28;01mexcept\u001b[39;00m \u001b[38;5;167;01mBaseException\u001b[39;00m \u001b[38;5;28;01mas\u001b[39;00m error:\n\u001b[0;32m-> 1042\u001b[0m     \u001b[38;5;28;43mself\u001b[39;49m\u001b[38;5;241;43m.\u001b[39;49m\u001b[43m_raise_connection_failure\u001b[49m\u001b[43m(\u001b[49m\u001b[43merror\u001b[49m\u001b[43m)\u001b[49m\n",
      "File \u001b[0;32m~/Documents/Repositories/BDEA/BDEA24_GruppeD_Aufgabe3/.venv/lib/python3.9/site-packages/pymongo/pool.py:1040\u001b[0m, in \u001b[0;36mConnection.receive_message\u001b[0;34m(self, request_id)\u001b[0m\n\u001b[1;32m   1035\u001b[0m \u001b[38;5;250m\u001b[39m\u001b[38;5;124;03m\"\"\"Receive a raw BSON message or raise ConnectionFailure.\u001b[39;00m\n\u001b[1;32m   1036\u001b[0m \n\u001b[1;32m   1037\u001b[0m \u001b[38;5;124;03mIf any exception is raised, the socket is closed.\u001b[39;00m\n\u001b[1;32m   1038\u001b[0m \u001b[38;5;124;03m\"\"\"\u001b[39;00m\n\u001b[1;32m   1039\u001b[0m \u001b[38;5;28;01mtry\u001b[39;00m:\n\u001b[0;32m-> 1040\u001b[0m     \u001b[38;5;28;01mreturn\u001b[39;00m \u001b[43mreceive_message\u001b[49m\u001b[43m(\u001b[49m\u001b[38;5;28;43mself\u001b[39;49m\u001b[43m,\u001b[49m\u001b[43m \u001b[49m\u001b[43mrequest_id\u001b[49m\u001b[43m,\u001b[49m\u001b[43m \u001b[49m\u001b[38;5;28;43mself\u001b[39;49m\u001b[38;5;241;43m.\u001b[39;49m\u001b[43mmax_message_size\u001b[49m\u001b[43m)\u001b[49m\n\u001b[1;32m   1041\u001b[0m \u001b[38;5;28;01mexcept\u001b[39;00m \u001b[38;5;167;01mBaseException\u001b[39;00m \u001b[38;5;28;01mas\u001b[39;00m error:\n\u001b[1;32m   1042\u001b[0m     \u001b[38;5;28mself\u001b[39m\u001b[38;5;241m.\u001b[39m_raise_connection_failure(error)\n",
      "File \u001b[0;32m~/Documents/Repositories/BDEA/BDEA24_GruppeD_Aufgabe3/.venv/lib/python3.9/site-packages/pymongo/network.py:317\u001b[0m, in \u001b[0;36mreceive_message\u001b[0;34m(conn, request_id, max_message_size)\u001b[0m\n\u001b[1;32m    315\u001b[0m         deadline \u001b[38;5;241m=\u001b[39m \u001b[38;5;28;01mNone\u001b[39;00m\n\u001b[1;32m    316\u001b[0m \u001b[38;5;66;03m# Ignore the response's request id.\u001b[39;00m\n\u001b[0;32m--> 317\u001b[0m length, _, response_to, op_code \u001b[38;5;241m=\u001b[39m _UNPACK_HEADER(\u001b[43m_receive_data_on_socket\u001b[49m\u001b[43m(\u001b[49m\u001b[43mconn\u001b[49m\u001b[43m,\u001b[49m\u001b[43m \u001b[49m\u001b[38;5;241;43m16\u001b[39;49m\u001b[43m,\u001b[49m\u001b[43m \u001b[49m\u001b[43mdeadline\u001b[49m\u001b[43m)\u001b[49m)\n\u001b[1;32m    318\u001b[0m \u001b[38;5;66;03m# No request_id for exhaust cursor \"getMore\".\u001b[39;00m\n\u001b[1;32m    319\u001b[0m \u001b[38;5;28;01mif\u001b[39;00m request_id \u001b[38;5;129;01mis\u001b[39;00m \u001b[38;5;129;01mnot\u001b[39;00m \u001b[38;5;28;01mNone\u001b[39;00m:\n",
      "File \u001b[0;32m~/Documents/Repositories/BDEA/BDEA24_GruppeD_Aufgabe3/.venv/lib/python3.9/site-packages/pymongo/network.py:394\u001b[0m, in \u001b[0;36m_receive_data_on_socket\u001b[0;34m(conn, length, deadline)\u001b[0m\n\u001b[1;32m    392\u001b[0m \u001b[38;5;28;01mwhile\u001b[39;00m bytes_read \u001b[38;5;241m<\u001b[39m length:\n\u001b[1;32m    393\u001b[0m     \u001b[38;5;28;01mtry\u001b[39;00m:\n\u001b[0;32m--> 394\u001b[0m         \u001b[43mwait_for_read\u001b[49m\u001b[43m(\u001b[49m\u001b[43mconn\u001b[49m\u001b[43m,\u001b[49m\u001b[43m \u001b[49m\u001b[43mdeadline\u001b[49m\u001b[43m)\u001b[49m\n\u001b[1;32m    395\u001b[0m         \u001b[38;5;66;03m# CSOT: Update timeout. When the timeout has expired perform one\u001b[39;00m\n\u001b[1;32m    396\u001b[0m         \u001b[38;5;66;03m# final non-blocking recv. This helps avoid spurious timeouts when\u001b[39;00m\n\u001b[1;32m    397\u001b[0m         \u001b[38;5;66;03m# the response is actually already buffered on the client.\u001b[39;00m\n\u001b[1;32m    398\u001b[0m         \u001b[38;5;28;01mif\u001b[39;00m _csot\u001b[38;5;241m.\u001b[39mget_timeout() \u001b[38;5;129;01mand\u001b[39;00m deadline \u001b[38;5;129;01mis\u001b[39;00m \u001b[38;5;129;01mnot\u001b[39;00m \u001b[38;5;28;01mNone\u001b[39;00m:\n",
      "File \u001b[0;32m~/Documents/Repositories/BDEA/BDEA24_GruppeD_Aufgabe3/.venv/lib/python3.9/site-packages/pymongo/network.py:375\u001b[0m, in \u001b[0;36mwait_for_read\u001b[0;34m(conn, deadline)\u001b[0m\n\u001b[1;32m    373\u001b[0m     \u001b[38;5;28;01melse\u001b[39;00m:\n\u001b[1;32m    374\u001b[0m         timeout \u001b[38;5;241m=\u001b[39m _POLL_TIMEOUT\n\u001b[0;32m--> 375\u001b[0m     readable \u001b[38;5;241m=\u001b[39m \u001b[43mconn\u001b[49m\u001b[38;5;241;43m.\u001b[39;49m\u001b[43msocket_checker\u001b[49m\u001b[38;5;241;43m.\u001b[39;49m\u001b[43mselect\u001b[49m\u001b[43m(\u001b[49m\u001b[43msock\u001b[49m\u001b[43m,\u001b[49m\u001b[43m \u001b[49m\u001b[43mread\u001b[49m\u001b[38;5;241;43m=\u001b[39;49m\u001b[38;5;28;43;01mTrue\u001b[39;49;00m\u001b[43m,\u001b[49m\u001b[43m \u001b[49m\u001b[43mtimeout\u001b[49m\u001b[38;5;241;43m=\u001b[39;49m\u001b[43mtimeout\u001b[49m\u001b[43m)\u001b[49m\n\u001b[1;32m    376\u001b[0m \u001b[38;5;28;01mif\u001b[39;00m conn\u001b[38;5;241m.\u001b[39mcancel_context\u001b[38;5;241m.\u001b[39mcancelled:\n\u001b[1;32m    377\u001b[0m     \u001b[38;5;28;01mraise\u001b[39;00m _OperationCancelled(\u001b[38;5;124m\"\u001b[39m\u001b[38;5;124moperation cancelled\u001b[39m\u001b[38;5;124m\"\u001b[39m)\n",
      "File \u001b[0;32m~/Documents/Repositories/BDEA/BDEA24_GruppeD_Aufgabe3/.venv/lib/python3.9/site-packages/pymongo/socket_checker.py:66\u001b[0m, in \u001b[0;36mSocketChecker.select\u001b[0;34m(self, sock, read, write, timeout)\u001b[0m\n\u001b[1;32m     62\u001b[0m \u001b[38;5;28;01mtry\u001b[39;00m:\n\u001b[1;32m     63\u001b[0m     \u001b[38;5;66;03m# poll() timeout is in milliseconds. select()\u001b[39;00m\n\u001b[1;32m     64\u001b[0m     \u001b[38;5;66;03m# timeout is in seconds.\u001b[39;00m\n\u001b[1;32m     65\u001b[0m     timeout_ \u001b[38;5;241m=\u001b[39m \u001b[38;5;28;01mNone\u001b[39;00m \u001b[38;5;28;01mif\u001b[39;00m timeout \u001b[38;5;129;01mis\u001b[39;00m \u001b[38;5;28;01mNone\u001b[39;00m \u001b[38;5;28;01melse\u001b[39;00m timeout \u001b[38;5;241m*\u001b[39m \u001b[38;5;241m1000\u001b[39m\n\u001b[0;32m---> 66\u001b[0m     res \u001b[38;5;241m=\u001b[39m \u001b[38;5;28;43mself\u001b[39;49m\u001b[38;5;241;43m.\u001b[39;49m\u001b[43m_poller\u001b[49m\u001b[38;5;241;43m.\u001b[39;49m\u001b[43mpoll\u001b[49m\u001b[43m(\u001b[49m\u001b[43mtimeout_\u001b[49m\u001b[43m)\u001b[49m\n\u001b[1;32m     67\u001b[0m     \u001b[38;5;66;03m# poll returns a possibly-empty list containing\u001b[39;00m\n\u001b[1;32m     68\u001b[0m     \u001b[38;5;66;03m# (fd, event) 2-tuples for the descriptors that have\u001b[39;00m\n\u001b[1;32m     69\u001b[0m     \u001b[38;5;66;03m# events or errors to report. Return True if the list\u001b[39;00m\n\u001b[1;32m     70\u001b[0m     \u001b[38;5;66;03m# is not empty.\u001b[39;00m\n\u001b[1;32m     71\u001b[0m     \u001b[38;5;28;01mreturn\u001b[39;00m \u001b[38;5;28mbool\u001b[39m(res)\n",
      "\u001b[0;31mKeyboardInterrupt\u001b[0m: "
     ]
    }
   ],
   "source": [
    "# Path to the CSV file\n",
    "file_path = './InputData/tweets.csv'\n",
    "\n",
    "# Get the concatenated strings\n",
    "tweets_map = process_csv(file_path)\n",
    "tweets_ids = []\n",
    "\n",
    "# Print the concatenated strings\n",
    "for key, value in tweets_map.items():\n",
    "    random_influencer_document = random.choice(top_influencers_list)\n",
    "    influencer_id = random_influencer_document['_id']\n",
    "    temp_id = add_post(influencer_id, value['tweet'], value['date'])\n",
    "    tweets_ids.append(temp_id)\n"
   ]
  },
  {
   "cell_type": "markdown",
   "id": "aa868170",
   "metadata": {},
   "source": [
    "## Create random likes"
   ]
  },
  {
   "cell_type": "code",
   "execution_count": 27,
   "id": "5f723376",
   "metadata": {},
   "outputs": [],
   "source": [
    "import random\n",
    "from pymongo import InsertOne, UpdateOne\n",
    "\n",
    "likes_count = 1000\n",
    "\n",
    "# Fetch all user IDs once\n",
    "user_ids = list(users_collection.distinct('_id'))\n",
    "user_count = len(user_ids)\n",
    "\n",
    "# Precompute random choices to reduce repeated calls to random.choice\n",
    "random_tweet_ids = [random.choice(tweets_ids) for _ in range(likes_count)]\n",
    "random_user_ids = [user_ids[random.randint(0, user_count - 1)] for _ in range(likes_count)]\n",
    "\n",
    "# Prepare bulk operations for likes insertion and updates\n",
    "like_operations = []\n",
    "post_update_operations = {}\n",
    "feed_update_operations = {}\n",
    "\n",
    "for i in range(likes_count):\n",
    "    random_tweet_id = random_tweet_ids[i]\n",
    "    random_user = random_user_ids[i]\n",
    "\n",
    "    # Prepare like insertion operation\n",
    "    like = {\"user_id\": random_user, \"post_id\": random_tweet_id}\n",
    "    like_operations.append(InsertOne(like))\n",
    "\n",
    "    # Prepare post likes increment operation\n",
    "    if random_tweet_id not in post_update_operations:\n",
    "        post_update_operations[random_tweet_id] = 1\n",
    "    else:\n",
    "        post_update_operations[random_tweet_id] += 1\n",
    "\n",
    "    # Prepare feed likes increment operation\n",
    "    if random_tweet_id not in feed_update_operations:\n",
    "        feed_update_operations[random_tweet_id] = 1\n",
    "    else:\n",
    "        feed_update_operations[random_tweet_id] += 1\n",
    "\n",
    "# Execute bulk insert for likes\n",
    "if like_operations:\n",
    "    likes_collection.bulk_write(like_operations)\n",
    "\n",
    "# Execute bulk update for posts and feeds\n",
    "post_updates = [UpdateOne({\"_id\": post_id}, {\"$inc\": {\"likes\": count}}) for post_id, count in post_update_operations.items()]\n",
    "if post_updates:\n",
    "    posts_collection.bulk_write(post_updates)\n",
    "\n",
    "feed_updates = [UpdateOne({\"post_id\": post_id}, {\"$inc\": {\"likes\": count}}) for post_id, count in feed_update_operations.items()]\n",
    "if feed_updates:\n",
    "    feeds_collection.bulk_write(feed_updates)\n"
   ]
  },
  {
   "cell_type": "code",
   "execution_count": 10,
   "id": "e934cd1e",
   "metadata": {},
   "outputs": [
    {
     "ename": "KeyboardInterrupt",
     "evalue": "",
     "output_type": "error",
     "traceback": [
      "\u001b[0;31m---------------------------------------------------------------------------\u001b[0m",
      "\u001b[0;31mKeyboardInterrupt\u001b[0m                         Traceback (most recent call last)",
      "Cell \u001b[0;32mIn[10], line 6\u001b[0m\n\u001b[1;32m      4\u001b[0m random_tweet_id \u001b[38;5;241m=\u001b[39m random\u001b[38;5;241m.\u001b[39mchoice(tweets_ids)\n\u001b[1;32m      5\u001b[0m random_user \u001b[38;5;241m=\u001b[39m get_random_user_id()\n\u001b[0;32m----> 6\u001b[0m \u001b[43mlike_post\u001b[49m\u001b[43m(\u001b[49m\u001b[43mrandom_user\u001b[49m\u001b[43m,\u001b[49m\u001b[43m \u001b[49m\u001b[43mrandom_tweet_id\u001b[49m\u001b[43m)\u001b[49m\n",
      "Cell \u001b[0;32mIn[6], line 48\u001b[0m, in \u001b[0;36mlike_post\u001b[0;34m(user_id, post_id)\u001b[0m\n\u001b[1;32m     46\u001b[0m likes_collection\u001b[38;5;241m.\u001b[39minsert_one(like)\n\u001b[1;32m     47\u001b[0m posts_collection\u001b[38;5;241m.\u001b[39mupdate_one({\u001b[38;5;124m\"\u001b[39m\u001b[38;5;124m_id\u001b[39m\u001b[38;5;124m\"\u001b[39m: post_id}, {\u001b[38;5;124m\"\u001b[39m\u001b[38;5;124m$inc\u001b[39m\u001b[38;5;124m\"\u001b[39m: {\u001b[38;5;124m\"\u001b[39m\u001b[38;5;124mlikes\u001b[39m\u001b[38;5;124m\"\u001b[39m: \u001b[38;5;241m1\u001b[39m}})\n\u001b[0;32m---> 48\u001b[0m \u001b[43mfeeds_collection\u001b[49m\u001b[38;5;241;43m.\u001b[39;49m\u001b[43mupdate_many\u001b[49m\u001b[43m(\u001b[49m\u001b[43m{\u001b[49m\u001b[38;5;124;43m\"\u001b[39;49m\u001b[38;5;124;43mpost_id\u001b[39;49m\u001b[38;5;124;43m\"\u001b[39;49m\u001b[43m:\u001b[49m\u001b[43m \u001b[49m\u001b[43mpost_id\u001b[49m\u001b[43m}\u001b[49m\u001b[43m,\u001b[49m\u001b[43m \u001b[49m\u001b[43m{\u001b[49m\u001b[38;5;124;43m\"\u001b[39;49m\u001b[38;5;124;43m$inc\u001b[39;49m\u001b[38;5;124;43m\"\u001b[39;49m\u001b[43m:\u001b[49m\u001b[43m \u001b[49m\u001b[43m{\u001b[49m\u001b[38;5;124;43m\"\u001b[39;49m\u001b[38;5;124;43mlikes\u001b[39;49m\u001b[38;5;124;43m\"\u001b[39;49m\u001b[43m:\u001b[49m\u001b[43m \u001b[49m\u001b[38;5;241;43m1\u001b[39;49m\u001b[43m}\u001b[49m\u001b[43m}\u001b[49m\u001b[43m)\u001b[49m\n",
      "File \u001b[0;32m~/Documents/Repositories/BDEA/BDEA24_GruppeD_Aufgabe3/.venv/lib/python3.9/site-packages/pymongo/collection.py:1177\u001b[0m, in \u001b[0;36mCollection.update_many\u001b[0;34m(self, filter, update, upsert, array_filters, bypass_document_validation, collation, hint, session, let, comment)\u001b[0m\n\u001b[1;32m   1173\u001b[0m common\u001b[38;5;241m.\u001b[39mvalidate_list_or_none(\u001b[38;5;124m\"\u001b[39m\u001b[38;5;124marray_filters\u001b[39m\u001b[38;5;124m\"\u001b[39m, array_filters)\n\u001b[1;32m   1175\u001b[0m write_concern \u001b[38;5;241m=\u001b[39m \u001b[38;5;28mself\u001b[39m\u001b[38;5;241m.\u001b[39m_write_concern_for(session)\n\u001b[1;32m   1176\u001b[0m \u001b[38;5;28;01mreturn\u001b[39;00m UpdateResult(\n\u001b[0;32m-> 1177\u001b[0m     \u001b[38;5;28;43mself\u001b[39;49m\u001b[38;5;241;43m.\u001b[39;49m\u001b[43m_update_retryable\u001b[49m\u001b[43m(\u001b[49m\n\u001b[1;32m   1178\u001b[0m \u001b[43m        \u001b[49m\u001b[38;5;28;43mfilter\u001b[39;49m\u001b[43m,\u001b[49m\n\u001b[1;32m   1179\u001b[0m \u001b[43m        \u001b[49m\u001b[43mupdate\u001b[49m\u001b[43m,\u001b[49m\n\u001b[1;32m   1180\u001b[0m \u001b[43m        \u001b[49m\u001b[43m_Op\u001b[49m\u001b[38;5;241;43m.\u001b[39;49m\u001b[43mUPDATE\u001b[49m\u001b[43m,\u001b[49m\n\u001b[1;32m   1181\u001b[0m \u001b[43m        \u001b[49m\u001b[43mupsert\u001b[49m\u001b[43m,\u001b[49m\n\u001b[1;32m   1182\u001b[0m \u001b[43m        \u001b[49m\u001b[43mmulti\u001b[49m\u001b[38;5;241;43m=\u001b[39;49m\u001b[38;5;28;43;01mTrue\u001b[39;49;00m\u001b[43m,\u001b[49m\n\u001b[1;32m   1183\u001b[0m \u001b[43m        \u001b[49m\u001b[43mwrite_concern\u001b[49m\u001b[38;5;241;43m=\u001b[39;49m\u001b[43mwrite_concern\u001b[49m\u001b[43m,\u001b[49m\n\u001b[1;32m   1184\u001b[0m \u001b[43m        \u001b[49m\u001b[43mbypass_doc_val\u001b[49m\u001b[38;5;241;43m=\u001b[39;49m\u001b[43mbypass_document_validation\u001b[49m\u001b[43m,\u001b[49m\n\u001b[1;32m   1185\u001b[0m \u001b[43m        \u001b[49m\u001b[43mcollation\u001b[49m\u001b[38;5;241;43m=\u001b[39;49m\u001b[43mcollation\u001b[49m\u001b[43m,\u001b[49m\n\u001b[1;32m   1186\u001b[0m \u001b[43m        \u001b[49m\u001b[43marray_filters\u001b[49m\u001b[38;5;241;43m=\u001b[39;49m\u001b[43marray_filters\u001b[49m\u001b[43m,\u001b[49m\n\u001b[1;32m   1187\u001b[0m \u001b[43m        \u001b[49m\u001b[43mhint\u001b[49m\u001b[38;5;241;43m=\u001b[39;49m\u001b[43mhint\u001b[49m\u001b[43m,\u001b[49m\n\u001b[1;32m   1188\u001b[0m \u001b[43m        \u001b[49m\u001b[43msession\u001b[49m\u001b[38;5;241;43m=\u001b[39;49m\u001b[43msession\u001b[49m\u001b[43m,\u001b[49m\n\u001b[1;32m   1189\u001b[0m \u001b[43m        \u001b[49m\u001b[43mlet\u001b[49m\u001b[38;5;241;43m=\u001b[39;49m\u001b[43mlet\u001b[49m\u001b[43m,\u001b[49m\n\u001b[1;32m   1190\u001b[0m \u001b[43m        \u001b[49m\u001b[43mcomment\u001b[49m\u001b[38;5;241;43m=\u001b[39;49m\u001b[43mcomment\u001b[49m\u001b[43m,\u001b[49m\n\u001b[1;32m   1191\u001b[0m \u001b[43m    \u001b[49m\u001b[43m)\u001b[49m,\n\u001b[1;32m   1192\u001b[0m     write_concern\u001b[38;5;241m.\u001b[39macknowledged,\n\u001b[1;32m   1193\u001b[0m )\n",
      "File \u001b[0;32m~/Documents/Repositories/BDEA/BDEA24_GruppeD_Aufgabe3/.venv/lib/python3.9/site-packages/pymongo/collection.py:872\u001b[0m, in \u001b[0;36mCollection._update_retryable\u001b[0;34m(self, criteria, document, operation, upsert, multi, write_concern, op_id, ordered, bypass_doc_val, collation, array_filters, hint, session, let, comment)\u001b[0m\n\u001b[1;32m    850\u001b[0m \u001b[38;5;28;01mdef\u001b[39;00m \u001b[38;5;21m_update\u001b[39m(\n\u001b[1;32m    851\u001b[0m     session: Optional[ClientSession], conn: Connection, retryable_write: \u001b[38;5;28mbool\u001b[39m\n\u001b[1;32m    852\u001b[0m ) \u001b[38;5;241m-\u001b[39m\u001b[38;5;241m>\u001b[39m Optional[Mapping[\u001b[38;5;28mstr\u001b[39m, Any]]:\n\u001b[1;32m    853\u001b[0m     \u001b[38;5;28;01mreturn\u001b[39;00m \u001b[38;5;28mself\u001b[39m\u001b[38;5;241m.\u001b[39m_update(\n\u001b[1;32m    854\u001b[0m         conn,\n\u001b[1;32m    855\u001b[0m         criteria,\n\u001b[0;32m   (...)\u001b[0m\n\u001b[1;32m    869\u001b[0m         comment\u001b[38;5;241m=\u001b[39mcomment,\n\u001b[1;32m    870\u001b[0m     )\n\u001b[0;32m--> 872\u001b[0m \u001b[38;5;28;01mreturn\u001b[39;00m \u001b[38;5;28;43mself\u001b[39;49m\u001b[38;5;241;43m.\u001b[39;49m\u001b[43m__database\u001b[49m\u001b[38;5;241;43m.\u001b[39;49m\u001b[43mclient\u001b[49m\u001b[38;5;241;43m.\u001b[39;49m\u001b[43m_retryable_write\u001b[49m\u001b[43m(\u001b[49m\n\u001b[1;32m    873\u001b[0m \u001b[43m    \u001b[49m\u001b[43m(\u001b[49m\u001b[43mwrite_concern\u001b[49m\u001b[43m \u001b[49m\u001b[38;5;129;43;01mor\u001b[39;49;00m\u001b[43m \u001b[49m\u001b[38;5;28;43mself\u001b[39;49m\u001b[38;5;241;43m.\u001b[39;49m\u001b[43mwrite_concern\u001b[49m\u001b[43m)\u001b[49m\u001b[38;5;241;43m.\u001b[39;49m\u001b[43macknowledged\u001b[49m\u001b[43m \u001b[49m\u001b[38;5;129;43;01mand\u001b[39;49;00m\u001b[43m \u001b[49m\u001b[38;5;129;43;01mnot\u001b[39;49;00m\u001b[43m \u001b[49m\u001b[43mmulti\u001b[49m\u001b[43m,\u001b[49m\n\u001b[1;32m    874\u001b[0m \u001b[43m    \u001b[49m\u001b[43m_update\u001b[49m\u001b[43m,\u001b[49m\n\u001b[1;32m    875\u001b[0m \u001b[43m    \u001b[49m\u001b[43msession\u001b[49m\u001b[43m,\u001b[49m\n\u001b[1;32m    876\u001b[0m \u001b[43m    \u001b[49m\u001b[43moperation\u001b[49m\u001b[43m,\u001b[49m\n\u001b[1;32m    877\u001b[0m \u001b[43m\u001b[49m\u001b[43m)\u001b[49m\n",
      "File \u001b[0;32m~/Documents/Repositories/BDEA/BDEA24_GruppeD_Aufgabe3/.venv/lib/python3.9/site-packages/pymongo/mongo_client.py:1569\u001b[0m, in \u001b[0;36mMongoClient._retryable_write\u001b[0;34m(self, retryable, func, session, operation, bulk, operation_id)\u001b[0m\n\u001b[1;32m   1555\u001b[0m \u001b[38;5;250m\u001b[39m\u001b[38;5;124;03m\"\"\"Execute an operation with consecutive retries if possible\u001b[39;00m\n\u001b[1;32m   1556\u001b[0m \n\u001b[1;32m   1557\u001b[0m \u001b[38;5;124;03mReturns func()'s return value on success. On error retries the same\u001b[39;00m\n\u001b[0;32m   (...)\u001b[0m\n\u001b[1;32m   1566\u001b[0m \u001b[38;5;124;03m:param bulk: bulk abstraction to execute operations in bulk, defaults to None\u001b[39;00m\n\u001b[1;32m   1567\u001b[0m \u001b[38;5;124;03m\"\"\"\u001b[39;00m\n\u001b[1;32m   1568\u001b[0m \u001b[38;5;28;01mwith\u001b[39;00m \u001b[38;5;28mself\u001b[39m\u001b[38;5;241m.\u001b[39m_tmp_session(session) \u001b[38;5;28;01mas\u001b[39;00m s:\n\u001b[0;32m-> 1569\u001b[0m     \u001b[38;5;28;01mreturn\u001b[39;00m \u001b[38;5;28;43mself\u001b[39;49m\u001b[38;5;241;43m.\u001b[39;49m\u001b[43m_retry_with_session\u001b[49m\u001b[43m(\u001b[49m\u001b[43mretryable\u001b[49m\u001b[43m,\u001b[49m\u001b[43m \u001b[49m\u001b[43mfunc\u001b[49m\u001b[43m,\u001b[49m\u001b[43m \u001b[49m\u001b[43ms\u001b[49m\u001b[43m,\u001b[49m\u001b[43m \u001b[49m\u001b[43mbulk\u001b[49m\u001b[43m,\u001b[49m\u001b[43m \u001b[49m\u001b[43moperation\u001b[49m\u001b[43m,\u001b[49m\u001b[43m \u001b[49m\u001b[43moperation_id\u001b[49m\u001b[43m)\u001b[49m\n",
      "File \u001b[0;32m~/Documents/Repositories/BDEA/BDEA24_GruppeD_Aufgabe3/.venv/lib/python3.9/site-packages/pymongo/mongo_client.py:1455\u001b[0m, in \u001b[0;36mMongoClient._retry_with_session\u001b[0;34m(self, retryable, func, session, bulk, operation, operation_id)\u001b[0m\n\u001b[1;32m   1450\u001b[0m \u001b[38;5;66;03m# Ensure that the options supports retry_writes and there is a valid session not in\u001b[39;00m\n\u001b[1;32m   1451\u001b[0m \u001b[38;5;66;03m# transaction, otherwise, we will not support retry behavior for this txn.\u001b[39;00m\n\u001b[1;32m   1452\u001b[0m retryable \u001b[38;5;241m=\u001b[39m \u001b[38;5;28mbool\u001b[39m(\n\u001b[1;32m   1453\u001b[0m     retryable \u001b[38;5;129;01mand\u001b[39;00m \u001b[38;5;28mself\u001b[39m\u001b[38;5;241m.\u001b[39moptions\u001b[38;5;241m.\u001b[39mretry_writes \u001b[38;5;129;01mand\u001b[39;00m session \u001b[38;5;129;01mand\u001b[39;00m \u001b[38;5;129;01mnot\u001b[39;00m session\u001b[38;5;241m.\u001b[39min_transaction\n\u001b[1;32m   1454\u001b[0m )\n\u001b[0;32m-> 1455\u001b[0m \u001b[38;5;28;01mreturn\u001b[39;00m \u001b[38;5;28;43mself\u001b[39;49m\u001b[38;5;241;43m.\u001b[39;49m\u001b[43m_retry_internal\u001b[49m\u001b[43m(\u001b[49m\n\u001b[1;32m   1456\u001b[0m \u001b[43m    \u001b[49m\u001b[43mfunc\u001b[49m\u001b[38;5;241;43m=\u001b[39;49m\u001b[43mfunc\u001b[49m\u001b[43m,\u001b[49m\n\u001b[1;32m   1457\u001b[0m \u001b[43m    \u001b[49m\u001b[43msession\u001b[49m\u001b[38;5;241;43m=\u001b[39;49m\u001b[43msession\u001b[49m\u001b[43m,\u001b[49m\n\u001b[1;32m   1458\u001b[0m \u001b[43m    \u001b[49m\u001b[43mbulk\u001b[49m\u001b[38;5;241;43m=\u001b[39;49m\u001b[43mbulk\u001b[49m\u001b[43m,\u001b[49m\n\u001b[1;32m   1459\u001b[0m \u001b[43m    \u001b[49m\u001b[43moperation\u001b[49m\u001b[38;5;241;43m=\u001b[39;49m\u001b[43moperation\u001b[49m\u001b[43m,\u001b[49m\n\u001b[1;32m   1460\u001b[0m \u001b[43m    \u001b[49m\u001b[43mretryable\u001b[49m\u001b[38;5;241;43m=\u001b[39;49m\u001b[43mretryable\u001b[49m\u001b[43m,\u001b[49m\n\u001b[1;32m   1461\u001b[0m \u001b[43m    \u001b[49m\u001b[43moperation_id\u001b[49m\u001b[38;5;241;43m=\u001b[39;49m\u001b[43moperation_id\u001b[49m\u001b[43m,\u001b[49m\n\u001b[1;32m   1462\u001b[0m \u001b[43m\u001b[49m\u001b[43m)\u001b[49m\n",
      "File \u001b[0;32m~/Documents/Repositories/BDEA/BDEA24_GruppeD_Aufgabe3/.venv/lib/python3.9/site-packages/pymongo/_csot.py:108\u001b[0m, in \u001b[0;36mapply.<locals>.csot_wrapper\u001b[0;34m(self, *args, **kwargs)\u001b[0m\n\u001b[1;32m    106\u001b[0m         \u001b[38;5;28;01mwith\u001b[39;00m _TimeoutContext(timeout):\n\u001b[1;32m    107\u001b[0m             \u001b[38;5;28;01mreturn\u001b[39;00m func(\u001b[38;5;28mself\u001b[39m, \u001b[38;5;241m*\u001b[39margs, \u001b[38;5;241m*\u001b[39m\u001b[38;5;241m*\u001b[39mkwargs)\n\u001b[0;32m--> 108\u001b[0m \u001b[38;5;28;01mreturn\u001b[39;00m \u001b[43mfunc\u001b[49m\u001b[43m(\u001b[49m\u001b[38;5;28;43mself\u001b[39;49m\u001b[43m,\u001b[49m\u001b[43m \u001b[49m\u001b[38;5;241;43m*\u001b[39;49m\u001b[43margs\u001b[49m\u001b[43m,\u001b[49m\u001b[43m \u001b[49m\u001b[38;5;241;43m*\u001b[39;49m\u001b[38;5;241;43m*\u001b[39;49m\u001b[43mkwargs\u001b[49m\u001b[43m)\u001b[49m\n",
      "File \u001b[0;32m~/Documents/Repositories/BDEA/BDEA24_GruppeD_Aufgabe3/.venv/lib/python3.9/site-packages/pymongo/mongo_client.py:1490\u001b[0m, in \u001b[0;36mMongoClient._retry_internal\u001b[0;34m(self, func, session, bulk, operation, is_read, address, read_pref, retryable, operation_id)\u001b[0m\n\u001b[1;32m   1464\u001b[0m \u001b[38;5;129m@_csot\u001b[39m\u001b[38;5;241m.\u001b[39mapply\n\u001b[1;32m   1465\u001b[0m \u001b[38;5;28;01mdef\u001b[39;00m \u001b[38;5;21m_retry_internal\u001b[39m(\n\u001b[1;32m   1466\u001b[0m     \u001b[38;5;28mself\u001b[39m,\n\u001b[0;32m   (...)\u001b[0m\n\u001b[1;32m   1475\u001b[0m     operation_id: Optional[\u001b[38;5;28mint\u001b[39m] \u001b[38;5;241m=\u001b[39m \u001b[38;5;28;01mNone\u001b[39;00m,\n\u001b[1;32m   1476\u001b[0m ) \u001b[38;5;241m-\u001b[39m\u001b[38;5;241m>\u001b[39m T:\n\u001b[1;32m   1477\u001b[0m \u001b[38;5;250m    \u001b[39m\u001b[38;5;124;03m\"\"\"Internal retryable helper for all client transactions.\u001b[39;00m\n\u001b[1;32m   1478\u001b[0m \n\u001b[1;32m   1479\u001b[0m \u001b[38;5;124;03m    :param func: Callback function we want to retry\u001b[39;00m\n\u001b[0;32m   (...)\u001b[0m\n\u001b[1;32m   1488\u001b[0m \u001b[38;5;124;03m    :return: Output of the calling func()\u001b[39;00m\n\u001b[1;32m   1489\u001b[0m \u001b[38;5;124;03m    \"\"\"\u001b[39;00m\n\u001b[0;32m-> 1490\u001b[0m     \u001b[38;5;28;01mreturn\u001b[39;00m \u001b[43m_ClientConnectionRetryable\u001b[49m\u001b[43m(\u001b[49m\n\u001b[1;32m   1491\u001b[0m \u001b[43m        \u001b[49m\u001b[43mmongo_client\u001b[49m\u001b[38;5;241;43m=\u001b[39;49m\u001b[38;5;28;43mself\u001b[39;49m\u001b[43m,\u001b[49m\n\u001b[1;32m   1492\u001b[0m \u001b[43m        \u001b[49m\u001b[43mfunc\u001b[49m\u001b[38;5;241;43m=\u001b[39;49m\u001b[43mfunc\u001b[49m\u001b[43m,\u001b[49m\n\u001b[1;32m   1493\u001b[0m \u001b[43m        \u001b[49m\u001b[43mbulk\u001b[49m\u001b[38;5;241;43m=\u001b[39;49m\u001b[43mbulk\u001b[49m\u001b[43m,\u001b[49m\n\u001b[1;32m   1494\u001b[0m \u001b[43m        \u001b[49m\u001b[43moperation\u001b[49m\u001b[38;5;241;43m=\u001b[39;49m\u001b[43moperation\u001b[49m\u001b[43m,\u001b[49m\n\u001b[1;32m   1495\u001b[0m \u001b[43m        \u001b[49m\u001b[43mis_read\u001b[49m\u001b[38;5;241;43m=\u001b[39;49m\u001b[43mis_read\u001b[49m\u001b[43m,\u001b[49m\n\u001b[1;32m   1496\u001b[0m \u001b[43m        \u001b[49m\u001b[43msession\u001b[49m\u001b[38;5;241;43m=\u001b[39;49m\u001b[43msession\u001b[49m\u001b[43m,\u001b[49m\n\u001b[1;32m   1497\u001b[0m \u001b[43m        \u001b[49m\u001b[43mread_pref\u001b[49m\u001b[38;5;241;43m=\u001b[39;49m\u001b[43mread_pref\u001b[49m\u001b[43m,\u001b[49m\n\u001b[1;32m   1498\u001b[0m \u001b[43m        \u001b[49m\u001b[43maddress\u001b[49m\u001b[38;5;241;43m=\u001b[39;49m\u001b[43maddress\u001b[49m\u001b[43m,\u001b[49m\n\u001b[1;32m   1499\u001b[0m \u001b[43m        \u001b[49m\u001b[43mretryable\u001b[49m\u001b[38;5;241;43m=\u001b[39;49m\u001b[43mretryable\u001b[49m\u001b[43m,\u001b[49m\n\u001b[1;32m   1500\u001b[0m \u001b[43m        \u001b[49m\u001b[43moperation_id\u001b[49m\u001b[38;5;241;43m=\u001b[39;49m\u001b[43moperation_id\u001b[49m\u001b[43m,\u001b[49m\n\u001b[1;32m   1501\u001b[0m \u001b[43m    \u001b[49m\u001b[43m)\u001b[49m\u001b[38;5;241;43m.\u001b[39;49m\u001b[43mrun\u001b[49m\u001b[43m(\u001b[49m\u001b[43m)\u001b[49m\n",
      "File \u001b[0;32m~/Documents/Repositories/BDEA/BDEA24_GruppeD_Aufgabe3/.venv/lib/python3.9/site-packages/pymongo/mongo_client.py:2347\u001b[0m, in \u001b[0;36m_ClientConnectionRetryable.run\u001b[0;34m(self)\u001b[0m\n\u001b[1;32m   2345\u001b[0m \u001b[38;5;28mself\u001b[39m\u001b[38;5;241m.\u001b[39m_check_last_error(check_csot\u001b[38;5;241m=\u001b[39m\u001b[38;5;28;01mTrue\u001b[39;00m)\n\u001b[1;32m   2346\u001b[0m \u001b[38;5;28;01mtry\u001b[39;00m:\n\u001b[0;32m-> 2347\u001b[0m     \u001b[38;5;28;01mreturn\u001b[39;00m \u001b[38;5;28mself\u001b[39m\u001b[38;5;241m.\u001b[39m_read() \u001b[38;5;28;01mif\u001b[39;00m \u001b[38;5;28mself\u001b[39m\u001b[38;5;241m.\u001b[39m_is_read \u001b[38;5;28;01melse\u001b[39;00m \u001b[38;5;28;43mself\u001b[39;49m\u001b[38;5;241;43m.\u001b[39;49m\u001b[43m_write\u001b[49m\u001b[43m(\u001b[49m\u001b[43m)\u001b[49m\n\u001b[1;32m   2348\u001b[0m \u001b[38;5;28;01mexcept\u001b[39;00m ServerSelectionTimeoutError:\n\u001b[1;32m   2349\u001b[0m     \u001b[38;5;66;03m# The application may think the write was never attempted\u001b[39;00m\n\u001b[1;32m   2350\u001b[0m     \u001b[38;5;66;03m# if we raise ServerSelectionTimeoutError on the retry\u001b[39;00m\n\u001b[1;32m   2351\u001b[0m     \u001b[38;5;66;03m# attempt. Raise the original exception instead.\u001b[39;00m\n\u001b[1;32m   2352\u001b[0m     \u001b[38;5;28mself\u001b[39m\u001b[38;5;241m.\u001b[39m_check_last_error()\n",
      "File \u001b[0;32m~/Documents/Repositories/BDEA/BDEA24_GruppeD_Aufgabe3/.venv/lib/python3.9/site-packages/pymongo/mongo_client.py:2464\u001b[0m, in \u001b[0;36m_ClientConnectionRetryable._write\u001b[0;34m(self)\u001b[0m\n\u001b[1;32m   2462\u001b[0m             \u001b[38;5;28mself\u001b[39m\u001b[38;5;241m.\u001b[39m_check_last_error()\n\u001b[1;32m   2463\u001b[0m             \u001b[38;5;28mself\u001b[39m\u001b[38;5;241m.\u001b[39m_retryable \u001b[38;5;241m=\u001b[39m \u001b[38;5;28;01mFalse\u001b[39;00m\n\u001b[0;32m-> 2464\u001b[0m         \u001b[38;5;28;01mreturn\u001b[39;00m \u001b[38;5;28;43mself\u001b[39;49m\u001b[38;5;241;43m.\u001b[39;49m\u001b[43m_func\u001b[49m\u001b[43m(\u001b[49m\u001b[38;5;28;43mself\u001b[39;49m\u001b[38;5;241;43m.\u001b[39;49m\u001b[43m_session\u001b[49m\u001b[43m,\u001b[49m\u001b[43m \u001b[49m\u001b[43mconn\u001b[49m\u001b[43m,\u001b[49m\u001b[43m \u001b[49m\u001b[38;5;28;43mself\u001b[39;49m\u001b[38;5;241;43m.\u001b[39;49m\u001b[43m_retryable\u001b[49m\u001b[43m)\u001b[49m  \u001b[38;5;66;03m# type: ignore\u001b[39;00m\n\u001b[1;32m   2465\u001b[0m \u001b[38;5;28;01mexcept\u001b[39;00m PyMongoError \u001b[38;5;28;01mas\u001b[39;00m exc:\n\u001b[1;32m   2466\u001b[0m     \u001b[38;5;28;01mif\u001b[39;00m \u001b[38;5;129;01mnot\u001b[39;00m \u001b[38;5;28mself\u001b[39m\u001b[38;5;241m.\u001b[39m_retryable:\n",
      "File \u001b[0;32m~/Documents/Repositories/BDEA/BDEA24_GruppeD_Aufgabe3/.venv/lib/python3.9/site-packages/pymongo/collection.py:853\u001b[0m, in \u001b[0;36mCollection._update_retryable.<locals>._update\u001b[0;34m(session, conn, retryable_write)\u001b[0m\n\u001b[1;32m    850\u001b[0m \u001b[38;5;28;01mdef\u001b[39;00m \u001b[38;5;21m_update\u001b[39m(\n\u001b[1;32m    851\u001b[0m     session: Optional[ClientSession], conn: Connection, retryable_write: \u001b[38;5;28mbool\u001b[39m\n\u001b[1;32m    852\u001b[0m ) \u001b[38;5;241m-\u001b[39m\u001b[38;5;241m>\u001b[39m Optional[Mapping[\u001b[38;5;28mstr\u001b[39m, Any]]:\n\u001b[0;32m--> 853\u001b[0m     \u001b[38;5;28;01mreturn\u001b[39;00m \u001b[38;5;28;43mself\u001b[39;49m\u001b[38;5;241;43m.\u001b[39;49m\u001b[43m_update\u001b[49m\u001b[43m(\u001b[49m\n\u001b[1;32m    854\u001b[0m \u001b[43m        \u001b[49m\u001b[43mconn\u001b[49m\u001b[43m,\u001b[49m\n\u001b[1;32m    855\u001b[0m \u001b[43m        \u001b[49m\u001b[43mcriteria\u001b[49m\u001b[43m,\u001b[49m\n\u001b[1;32m    856\u001b[0m \u001b[43m        \u001b[49m\u001b[43mdocument\u001b[49m\u001b[43m,\u001b[49m\n\u001b[1;32m    857\u001b[0m \u001b[43m        \u001b[49m\u001b[43mupsert\u001b[49m\u001b[38;5;241;43m=\u001b[39;49m\u001b[43mupsert\u001b[49m\u001b[43m,\u001b[49m\n\u001b[1;32m    858\u001b[0m \u001b[43m        \u001b[49m\u001b[43mmulti\u001b[49m\u001b[38;5;241;43m=\u001b[39;49m\u001b[43mmulti\u001b[49m\u001b[43m,\u001b[49m\n\u001b[1;32m    859\u001b[0m \u001b[43m        \u001b[49m\u001b[43mwrite_concern\u001b[49m\u001b[38;5;241;43m=\u001b[39;49m\u001b[43mwrite_concern\u001b[49m\u001b[43m,\u001b[49m\n\u001b[1;32m    860\u001b[0m \u001b[43m        \u001b[49m\u001b[43mop_id\u001b[49m\u001b[38;5;241;43m=\u001b[39;49m\u001b[43mop_id\u001b[49m\u001b[43m,\u001b[49m\n\u001b[1;32m    861\u001b[0m \u001b[43m        \u001b[49m\u001b[43mordered\u001b[49m\u001b[38;5;241;43m=\u001b[39;49m\u001b[43mordered\u001b[49m\u001b[43m,\u001b[49m\n\u001b[1;32m    862\u001b[0m \u001b[43m        \u001b[49m\u001b[43mbypass_doc_val\u001b[49m\u001b[38;5;241;43m=\u001b[39;49m\u001b[43mbypass_doc_val\u001b[49m\u001b[43m,\u001b[49m\n\u001b[1;32m    863\u001b[0m \u001b[43m        \u001b[49m\u001b[43mcollation\u001b[49m\u001b[38;5;241;43m=\u001b[39;49m\u001b[43mcollation\u001b[49m\u001b[43m,\u001b[49m\n\u001b[1;32m    864\u001b[0m \u001b[43m        \u001b[49m\u001b[43marray_filters\u001b[49m\u001b[38;5;241;43m=\u001b[39;49m\u001b[43marray_filters\u001b[49m\u001b[43m,\u001b[49m\n\u001b[1;32m    865\u001b[0m \u001b[43m        \u001b[49m\u001b[43mhint\u001b[49m\u001b[38;5;241;43m=\u001b[39;49m\u001b[43mhint\u001b[49m\u001b[43m,\u001b[49m\n\u001b[1;32m    866\u001b[0m \u001b[43m        \u001b[49m\u001b[43msession\u001b[49m\u001b[38;5;241;43m=\u001b[39;49m\u001b[43msession\u001b[49m\u001b[43m,\u001b[49m\n\u001b[1;32m    867\u001b[0m \u001b[43m        \u001b[49m\u001b[43mretryable_write\u001b[49m\u001b[38;5;241;43m=\u001b[39;49m\u001b[43mretryable_write\u001b[49m\u001b[43m,\u001b[49m\n\u001b[1;32m    868\u001b[0m \u001b[43m        \u001b[49m\u001b[43mlet\u001b[49m\u001b[38;5;241;43m=\u001b[39;49m\u001b[43mlet\u001b[49m\u001b[43m,\u001b[49m\n\u001b[1;32m    869\u001b[0m \u001b[43m        \u001b[49m\u001b[43mcomment\u001b[49m\u001b[38;5;241;43m=\u001b[39;49m\u001b[43mcomment\u001b[49m\u001b[43m,\u001b[49m\n\u001b[1;32m    870\u001b[0m \u001b[43m    \u001b[49m\u001b[43m)\u001b[49m\n",
      "File \u001b[0;32m~/Documents/Repositories/BDEA/BDEA24_GruppeD_Aufgabe3/.venv/lib/python3.9/site-packages/pymongo/collection.py:806\u001b[0m, in \u001b[0;36mCollection._update\u001b[0;34m(self, conn, criteria, document, upsert, multi, write_concern, op_id, ordered, bypass_doc_val, collation, array_filters, hint, session, retryable_write, let, comment)\u001b[0m\n\u001b[1;32m    802\u001b[0m     command[\u001b[38;5;124m\"\u001b[39m\u001b[38;5;124mbypassDocumentValidation\u001b[39m\u001b[38;5;124m\"\u001b[39m] \u001b[38;5;241m=\u001b[39m \u001b[38;5;28;01mTrue\u001b[39;00m\n\u001b[1;32m    804\u001b[0m \u001b[38;5;66;03m# The command result has to be published for APM unmodified\u001b[39;00m\n\u001b[1;32m    805\u001b[0m \u001b[38;5;66;03m# so we make a shallow copy here before adding updatedExisting.\u001b[39;00m\n\u001b[0;32m--> 806\u001b[0m result \u001b[38;5;241m=\u001b[39m \u001b[43mconn\u001b[49m\u001b[38;5;241;43m.\u001b[39;49m\u001b[43mcommand\u001b[49m\u001b[43m(\u001b[49m\n\u001b[1;32m    807\u001b[0m \u001b[43m    \u001b[49m\u001b[38;5;28;43mself\u001b[39;49m\u001b[38;5;241;43m.\u001b[39;49m\u001b[43m__database\u001b[49m\u001b[38;5;241;43m.\u001b[39;49m\u001b[43mname\u001b[49m\u001b[43m,\u001b[49m\n\u001b[1;32m    808\u001b[0m \u001b[43m    \u001b[49m\u001b[43mcommand\u001b[49m\u001b[43m,\u001b[49m\n\u001b[1;32m    809\u001b[0m \u001b[43m    \u001b[49m\u001b[43mwrite_concern\u001b[49m\u001b[38;5;241;43m=\u001b[39;49m\u001b[43mwrite_concern\u001b[49m\u001b[43m,\u001b[49m\n\u001b[1;32m    810\u001b[0m \u001b[43m    \u001b[49m\u001b[43mcodec_options\u001b[49m\u001b[38;5;241;43m=\u001b[39;49m\u001b[38;5;28;43mself\u001b[39;49m\u001b[38;5;241;43m.\u001b[39;49m\u001b[43m__write_response_codec_options\u001b[49m\u001b[43m,\u001b[49m\n\u001b[1;32m    811\u001b[0m \u001b[43m    \u001b[49m\u001b[43msession\u001b[49m\u001b[38;5;241;43m=\u001b[39;49m\u001b[43msession\u001b[49m\u001b[43m,\u001b[49m\n\u001b[1;32m    812\u001b[0m \u001b[43m    \u001b[49m\u001b[43mclient\u001b[49m\u001b[38;5;241;43m=\u001b[39;49m\u001b[38;5;28;43mself\u001b[39;49m\u001b[38;5;241;43m.\u001b[39;49m\u001b[43m__database\u001b[49m\u001b[38;5;241;43m.\u001b[39;49m\u001b[43mclient\u001b[49m\u001b[43m,\u001b[49m\n\u001b[1;32m    813\u001b[0m \u001b[43m    \u001b[49m\u001b[43mretryable_write\u001b[49m\u001b[38;5;241;43m=\u001b[39;49m\u001b[43mretryable_write\u001b[49m\u001b[43m,\u001b[49m\n\u001b[1;32m    814\u001b[0m \u001b[43m\u001b[49m\u001b[43m)\u001b[49m\u001b[38;5;241m.\u001b[39mcopy()\n\u001b[1;32m    815\u001b[0m _check_write_command_response(result)\n\u001b[1;32m    816\u001b[0m \u001b[38;5;66;03m# Add the updatedExisting field for compatibility.\u001b[39;00m\n",
      "File \u001b[0;32m~/Documents/Repositories/BDEA/BDEA24_GruppeD_Aufgabe3/.venv/lib/python3.9/site-packages/pymongo/helpers.py:342\u001b[0m, in \u001b[0;36m_handle_reauth.<locals>.inner\u001b[0;34m(*args, **kwargs)\u001b[0m\n\u001b[1;32m    339\u001b[0m \u001b[38;5;28;01mfrom\u001b[39;00m \u001b[38;5;21;01mpymongo\u001b[39;00m\u001b[38;5;21;01m.\u001b[39;00m\u001b[38;5;21;01mpool\u001b[39;00m \u001b[38;5;28;01mimport\u001b[39;00m Connection\n\u001b[1;32m    341\u001b[0m \u001b[38;5;28;01mtry\u001b[39;00m:\n\u001b[0;32m--> 342\u001b[0m     \u001b[38;5;28;01mreturn\u001b[39;00m \u001b[43mfunc\u001b[49m\u001b[43m(\u001b[49m\u001b[38;5;241;43m*\u001b[39;49m\u001b[43margs\u001b[49m\u001b[43m,\u001b[49m\u001b[43m \u001b[49m\u001b[38;5;241;43m*\u001b[39;49m\u001b[38;5;241;43m*\u001b[39;49m\u001b[43mkwargs\u001b[49m\u001b[43m)\u001b[49m\n\u001b[1;32m    343\u001b[0m \u001b[38;5;28;01mexcept\u001b[39;00m OperationFailure \u001b[38;5;28;01mas\u001b[39;00m exc:\n\u001b[1;32m    344\u001b[0m     \u001b[38;5;28;01mif\u001b[39;00m no_reauth:\n",
      "File \u001b[0;32m~/Documents/Repositories/BDEA/BDEA24_GruppeD_Aufgabe3/.venv/lib/python3.9/site-packages/pymongo/pool.py:1016\u001b[0m, in \u001b[0;36mConnection.command\u001b[0;34m(self, dbname, spec, read_preference, codec_options, check, allowable_errors, read_concern, write_concern, parse_write_concern_error, collation, session, client, retryable_write, publish_events, user_fields, exhaust_allowed)\u001b[0m\n\u001b[1;32m   1014\u001b[0m \u001b[38;5;66;03m# Catch socket.error, KeyboardInterrupt, etc. and close ourselves.\u001b[39;00m\n\u001b[1;32m   1015\u001b[0m \u001b[38;5;28;01mexcept\u001b[39;00m \u001b[38;5;167;01mBaseException\u001b[39;00m \u001b[38;5;28;01mas\u001b[39;00m error:\n\u001b[0;32m-> 1016\u001b[0m     \u001b[38;5;28;43mself\u001b[39;49m\u001b[38;5;241;43m.\u001b[39;49m\u001b[43m_raise_connection_failure\u001b[49m\u001b[43m(\u001b[49m\u001b[43merror\u001b[49m\u001b[43m)\u001b[49m\n",
      "File \u001b[0;32m~/Documents/Repositories/BDEA/BDEA24_GruppeD_Aufgabe3/.venv/lib/python3.9/site-packages/pymongo/pool.py:988\u001b[0m, in \u001b[0;36mConnection.command\u001b[0;34m(self, dbname, spec, read_preference, codec_options, check, allowable_errors, read_concern, write_concern, parse_write_concern_error, collation, session, client, retryable_write, publish_events, user_fields, exhaust_allowed)\u001b[0m\n\u001b[1;32m    986\u001b[0m     \u001b[38;5;28mself\u001b[39m\u001b[38;5;241m.\u001b[39m_raise_if_not_writable(unacknowledged)\n\u001b[1;32m    987\u001b[0m \u001b[38;5;28;01mtry\u001b[39;00m:\n\u001b[0;32m--> 988\u001b[0m     \u001b[38;5;28;01mreturn\u001b[39;00m \u001b[43mcommand\u001b[49m\u001b[43m(\u001b[49m\n\u001b[1;32m    989\u001b[0m \u001b[43m        \u001b[49m\u001b[38;5;28;43mself\u001b[39;49m\u001b[43m,\u001b[49m\n\u001b[1;32m    990\u001b[0m \u001b[43m        \u001b[49m\u001b[43mdbname\u001b[49m\u001b[43m,\u001b[49m\n\u001b[1;32m    991\u001b[0m \u001b[43m        \u001b[49m\u001b[43mspec\u001b[49m\u001b[43m,\u001b[49m\n\u001b[1;32m    992\u001b[0m \u001b[43m        \u001b[49m\u001b[38;5;28;43mself\u001b[39;49m\u001b[38;5;241;43m.\u001b[39;49m\u001b[43mis_mongos\u001b[49m\u001b[43m,\u001b[49m\n\u001b[1;32m    993\u001b[0m \u001b[43m        \u001b[49m\u001b[43mread_preference\u001b[49m\u001b[43m,\u001b[49m\n\u001b[1;32m    994\u001b[0m \u001b[43m        \u001b[49m\u001b[43mcodec_options\u001b[49m\u001b[43m,\u001b[49m\n\u001b[1;32m    995\u001b[0m \u001b[43m        \u001b[49m\u001b[43msession\u001b[49m\u001b[43m,\u001b[49m\n\u001b[1;32m    996\u001b[0m \u001b[43m        \u001b[49m\u001b[43mclient\u001b[49m\u001b[43m,\u001b[49m\n\u001b[1;32m    997\u001b[0m \u001b[43m        \u001b[49m\u001b[43mcheck\u001b[49m\u001b[43m,\u001b[49m\n\u001b[1;32m    998\u001b[0m \u001b[43m        \u001b[49m\u001b[43mallowable_errors\u001b[49m\u001b[43m,\u001b[49m\n\u001b[1;32m    999\u001b[0m \u001b[43m        \u001b[49m\u001b[38;5;28;43mself\u001b[39;49m\u001b[38;5;241;43m.\u001b[39;49m\u001b[43maddress\u001b[49m\u001b[43m,\u001b[49m\n\u001b[1;32m   1000\u001b[0m \u001b[43m        \u001b[49m\u001b[43mlisteners\u001b[49m\u001b[43m,\u001b[49m\n\u001b[1;32m   1001\u001b[0m \u001b[43m        \u001b[49m\u001b[38;5;28;43mself\u001b[39;49m\u001b[38;5;241;43m.\u001b[39;49m\u001b[43mmax_bson_size\u001b[49m\u001b[43m,\u001b[49m\n\u001b[1;32m   1002\u001b[0m \u001b[43m        \u001b[49m\u001b[43mread_concern\u001b[49m\u001b[43m,\u001b[49m\n\u001b[1;32m   1003\u001b[0m \u001b[43m        \u001b[49m\u001b[43mparse_write_concern_error\u001b[49m\u001b[38;5;241;43m=\u001b[39;49m\u001b[43mparse_write_concern_error\u001b[49m\u001b[43m,\u001b[49m\n\u001b[1;32m   1004\u001b[0m \u001b[43m        \u001b[49m\u001b[43mcollation\u001b[49m\u001b[38;5;241;43m=\u001b[39;49m\u001b[43mcollation\u001b[49m\u001b[43m,\u001b[49m\n\u001b[1;32m   1005\u001b[0m \u001b[43m        \u001b[49m\u001b[43mcompression_ctx\u001b[49m\u001b[38;5;241;43m=\u001b[39;49m\u001b[38;5;28;43mself\u001b[39;49m\u001b[38;5;241;43m.\u001b[39;49m\u001b[43mcompression_context\u001b[49m\u001b[43m,\u001b[49m\n\u001b[1;32m   1006\u001b[0m \u001b[43m        \u001b[49m\u001b[43muse_op_msg\u001b[49m\u001b[38;5;241;43m=\u001b[39;49m\u001b[38;5;28;43mself\u001b[39;49m\u001b[38;5;241;43m.\u001b[39;49m\u001b[43mop_msg_enabled\u001b[49m\u001b[43m,\u001b[49m\n\u001b[1;32m   1007\u001b[0m \u001b[43m        \u001b[49m\u001b[43munacknowledged\u001b[49m\u001b[38;5;241;43m=\u001b[39;49m\u001b[43munacknowledged\u001b[49m\u001b[43m,\u001b[49m\n\u001b[1;32m   1008\u001b[0m \u001b[43m        \u001b[49m\u001b[43muser_fields\u001b[49m\u001b[38;5;241;43m=\u001b[39;49m\u001b[43muser_fields\u001b[49m\u001b[43m,\u001b[49m\n\u001b[1;32m   1009\u001b[0m \u001b[43m        \u001b[49m\u001b[43mexhaust_allowed\u001b[49m\u001b[38;5;241;43m=\u001b[39;49m\u001b[43mexhaust_allowed\u001b[49m\u001b[43m,\u001b[49m\n\u001b[1;32m   1010\u001b[0m \u001b[43m        \u001b[49m\u001b[43mwrite_concern\u001b[49m\u001b[38;5;241;43m=\u001b[39;49m\u001b[43mwrite_concern\u001b[49m\u001b[43m,\u001b[49m\n\u001b[1;32m   1011\u001b[0m \u001b[43m    \u001b[49m\u001b[43m)\u001b[49m\n\u001b[1;32m   1012\u001b[0m \u001b[38;5;28;01mexcept\u001b[39;00m (OperationFailure, NotPrimaryError):\n\u001b[1;32m   1013\u001b[0m     \u001b[38;5;28;01mraise\u001b[39;00m\n",
      "File \u001b[0;32m~/Documents/Repositories/BDEA/BDEA24_GruppeD_Aufgabe3/.venv/lib/python3.9/site-packages/pymongo/network.py:202\u001b[0m, in \u001b[0;36mcommand\u001b[0;34m(conn, dbname, spec, is_mongos, read_preference, codec_options, session, client, check, allowable_errors, address, listeners, max_bson_size, read_concern, parse_write_concern_error, collation, compression_ctx, use_op_msg, unacknowledged, user_fields, exhaust_allowed, write_concern)\u001b[0m\n\u001b[1;32m    200\u001b[0m     response_doc: _DocumentOut \u001b[38;5;241m=\u001b[39m {\u001b[38;5;124m\"\u001b[39m\u001b[38;5;124mok\u001b[39m\u001b[38;5;124m\"\u001b[39m: \u001b[38;5;241m1\u001b[39m}\n\u001b[1;32m    201\u001b[0m \u001b[38;5;28;01melse\u001b[39;00m:\n\u001b[0;32m--> 202\u001b[0m     reply \u001b[38;5;241m=\u001b[39m \u001b[43mreceive_message\u001b[49m\u001b[43m(\u001b[49m\u001b[43mconn\u001b[49m\u001b[43m,\u001b[49m\u001b[43m \u001b[49m\u001b[43mrequest_id\u001b[49m\u001b[43m)\u001b[49m\n\u001b[1;32m    203\u001b[0m     conn\u001b[38;5;241m.\u001b[39mmore_to_come \u001b[38;5;241m=\u001b[39m reply\u001b[38;5;241m.\u001b[39mmore_to_come\n\u001b[1;32m    204\u001b[0m     unpacked_docs \u001b[38;5;241m=\u001b[39m reply\u001b[38;5;241m.\u001b[39munpack_response(\n\u001b[1;32m    205\u001b[0m         codec_options\u001b[38;5;241m=\u001b[39mcodec_options, user_fields\u001b[38;5;241m=\u001b[39muser_fields\n\u001b[1;32m    206\u001b[0m     )\n",
      "File \u001b[0;32m~/Documents/Repositories/BDEA/BDEA24_GruppeD_Aufgabe3/.venv/lib/python3.9/site-packages/pymongo/network.py:317\u001b[0m, in \u001b[0;36mreceive_message\u001b[0;34m(conn, request_id, max_message_size)\u001b[0m\n\u001b[1;32m    315\u001b[0m         deadline \u001b[38;5;241m=\u001b[39m \u001b[38;5;28;01mNone\u001b[39;00m\n\u001b[1;32m    316\u001b[0m \u001b[38;5;66;03m# Ignore the response's request id.\u001b[39;00m\n\u001b[0;32m--> 317\u001b[0m length, _, response_to, op_code \u001b[38;5;241m=\u001b[39m _UNPACK_HEADER(\u001b[43m_receive_data_on_socket\u001b[49m\u001b[43m(\u001b[49m\u001b[43mconn\u001b[49m\u001b[43m,\u001b[49m\u001b[43m \u001b[49m\u001b[38;5;241;43m16\u001b[39;49m\u001b[43m,\u001b[49m\u001b[43m \u001b[49m\u001b[43mdeadline\u001b[49m\u001b[43m)\u001b[49m)\n\u001b[1;32m    318\u001b[0m \u001b[38;5;66;03m# No request_id for exhaust cursor \"getMore\".\u001b[39;00m\n\u001b[1;32m    319\u001b[0m \u001b[38;5;28;01mif\u001b[39;00m request_id \u001b[38;5;129;01mis\u001b[39;00m \u001b[38;5;129;01mnot\u001b[39;00m \u001b[38;5;28;01mNone\u001b[39;00m:\n",
      "File \u001b[0;32m~/Documents/Repositories/BDEA/BDEA24_GruppeD_Aufgabe3/.venv/lib/python3.9/site-packages/pymongo/network.py:394\u001b[0m, in \u001b[0;36m_receive_data_on_socket\u001b[0;34m(conn, length, deadline)\u001b[0m\n\u001b[1;32m    392\u001b[0m \u001b[38;5;28;01mwhile\u001b[39;00m bytes_read \u001b[38;5;241m<\u001b[39m length:\n\u001b[1;32m    393\u001b[0m     \u001b[38;5;28;01mtry\u001b[39;00m:\n\u001b[0;32m--> 394\u001b[0m         \u001b[43mwait_for_read\u001b[49m\u001b[43m(\u001b[49m\u001b[43mconn\u001b[49m\u001b[43m,\u001b[49m\u001b[43m \u001b[49m\u001b[43mdeadline\u001b[49m\u001b[43m)\u001b[49m\n\u001b[1;32m    395\u001b[0m         \u001b[38;5;66;03m# CSOT: Update timeout. When the timeout has expired perform one\u001b[39;00m\n\u001b[1;32m    396\u001b[0m         \u001b[38;5;66;03m# final non-blocking recv. This helps avoid spurious timeouts when\u001b[39;00m\n\u001b[1;32m    397\u001b[0m         \u001b[38;5;66;03m# the response is actually already buffered on the client.\u001b[39;00m\n\u001b[1;32m    398\u001b[0m         \u001b[38;5;28;01mif\u001b[39;00m _csot\u001b[38;5;241m.\u001b[39mget_timeout() \u001b[38;5;129;01mand\u001b[39;00m deadline \u001b[38;5;129;01mis\u001b[39;00m \u001b[38;5;129;01mnot\u001b[39;00m \u001b[38;5;28;01mNone\u001b[39;00m:\n",
      "File \u001b[0;32m~/Documents/Repositories/BDEA/BDEA24_GruppeD_Aufgabe3/.venv/lib/python3.9/site-packages/pymongo/network.py:375\u001b[0m, in \u001b[0;36mwait_for_read\u001b[0;34m(conn, deadline)\u001b[0m\n\u001b[1;32m    373\u001b[0m     \u001b[38;5;28;01melse\u001b[39;00m:\n\u001b[1;32m    374\u001b[0m         timeout \u001b[38;5;241m=\u001b[39m _POLL_TIMEOUT\n\u001b[0;32m--> 375\u001b[0m     readable \u001b[38;5;241m=\u001b[39m \u001b[43mconn\u001b[49m\u001b[38;5;241;43m.\u001b[39;49m\u001b[43msocket_checker\u001b[49m\u001b[38;5;241;43m.\u001b[39;49m\u001b[43mselect\u001b[49m\u001b[43m(\u001b[49m\u001b[43msock\u001b[49m\u001b[43m,\u001b[49m\u001b[43m \u001b[49m\u001b[43mread\u001b[49m\u001b[38;5;241;43m=\u001b[39;49m\u001b[38;5;28;43;01mTrue\u001b[39;49;00m\u001b[43m,\u001b[49m\u001b[43m \u001b[49m\u001b[43mtimeout\u001b[49m\u001b[38;5;241;43m=\u001b[39;49m\u001b[43mtimeout\u001b[49m\u001b[43m)\u001b[49m\n\u001b[1;32m    376\u001b[0m \u001b[38;5;28;01mif\u001b[39;00m conn\u001b[38;5;241m.\u001b[39mcancel_context\u001b[38;5;241m.\u001b[39mcancelled:\n\u001b[1;32m    377\u001b[0m     \u001b[38;5;28;01mraise\u001b[39;00m _OperationCancelled(\u001b[38;5;124m\"\u001b[39m\u001b[38;5;124moperation cancelled\u001b[39m\u001b[38;5;124m\"\u001b[39m)\n",
      "File \u001b[0;32m~/Documents/Repositories/BDEA/BDEA24_GruppeD_Aufgabe3/.venv/lib/python3.9/site-packages/pymongo/socket_checker.py:66\u001b[0m, in \u001b[0;36mSocketChecker.select\u001b[0;34m(self, sock, read, write, timeout)\u001b[0m\n\u001b[1;32m     62\u001b[0m \u001b[38;5;28;01mtry\u001b[39;00m:\n\u001b[1;32m     63\u001b[0m     \u001b[38;5;66;03m# poll() timeout is in milliseconds. select()\u001b[39;00m\n\u001b[1;32m     64\u001b[0m     \u001b[38;5;66;03m# timeout is in seconds.\u001b[39;00m\n\u001b[1;32m     65\u001b[0m     timeout_ \u001b[38;5;241m=\u001b[39m \u001b[38;5;28;01mNone\u001b[39;00m \u001b[38;5;28;01mif\u001b[39;00m timeout \u001b[38;5;129;01mis\u001b[39;00m \u001b[38;5;28;01mNone\u001b[39;00m \u001b[38;5;28;01melse\u001b[39;00m timeout \u001b[38;5;241m*\u001b[39m \u001b[38;5;241m1000\u001b[39m\n\u001b[0;32m---> 66\u001b[0m     res \u001b[38;5;241m=\u001b[39m \u001b[38;5;28;43mself\u001b[39;49m\u001b[38;5;241;43m.\u001b[39;49m\u001b[43m_poller\u001b[49m\u001b[38;5;241;43m.\u001b[39;49m\u001b[43mpoll\u001b[49m\u001b[43m(\u001b[49m\u001b[43mtimeout_\u001b[49m\u001b[43m)\u001b[49m\n\u001b[1;32m     67\u001b[0m     \u001b[38;5;66;03m# poll returns a possibly-empty list containing\u001b[39;00m\n\u001b[1;32m     68\u001b[0m     \u001b[38;5;66;03m# (fd, event) 2-tuples for the descriptors that have\u001b[39;00m\n\u001b[1;32m     69\u001b[0m     \u001b[38;5;66;03m# events or errors to report. Return True if the list\u001b[39;00m\n\u001b[1;32m     70\u001b[0m     \u001b[38;5;66;03m# is not empty.\u001b[39;00m\n\u001b[1;32m     71\u001b[0m     \u001b[38;5;28;01mreturn\u001b[39;00m \u001b[38;5;28mbool\u001b[39m(res)\n",
      "\u001b[0;31mKeyboardInterrupt\u001b[0m: "
     ]
    }
   ],
   "source": [
    "likes_count = 2000\n",
    "\n",
    "for i in range(likes_count):\n",
    "    random_tweet_id = random.choice(tweets_ids)\n",
    "    random_user = get_random_user_id()\n",
    "    like_post(random_user, random_tweet_id)"
   ]
  },
  {
   "cell_type": "markdown",
   "id": "666b99cb",
   "metadata": {},
   "source": [
    "# Request data from DB"
   ]
  },
  {
   "cell_type": "markdown",
   "id": "89939c93",
   "metadata": {},
   "source": [
    "## Find out top 100 most followed"
   ]
  },
  {
   "cell_type": "code",
   "execution_count": null,
   "id": "120be840",
   "metadata": {},
   "outputs": [],
   "source": [
    "# Get and print top influencers\n",
    "top_influencers = get_top_influencers(2)\n",
    "print(\"Top influencers:\")\n",
    "for influencer in top_influencers:\n",
    "    print(\"user id:\", influencer[\"_id\"], \"Follower count\", influencer[\"followers_count\"])"
   ]
  },
  {
   "cell_type": "markdown",
   "id": "1b1dc4ba",
   "metadata": {},
   "source": [
    "## Find out top 100 influencer followers"
   ]
  },
  {
   "cell_type": "code",
   "execution_count": null,
   "id": "9659e9f4",
   "metadata": {},
   "outputs": [],
   "source": [
    "# Get and print top followers\n",
    "top_followers = get_top_follower_users(2)\n",
    "print(\"Top followers:\")\n",
    "for follower in top_followers:\n",
    "    print(\"user id:\", follower[\"_id\"], \"Influencers followed\", follower[\"following_count\"])"
   ]
  },
  {
   "cell_type": "markdown",
   "id": "1ce50c0f",
   "metadata": {},
   "source": [
    "## Show user profile"
   ]
  },
  {
   "cell_type": "code",
   "execution_count": 28,
   "id": "6d36a084",
   "metadata": {},
   "outputs": [
    {
     "name": "stdout",
     "output_type": "stream",
     "text": [
      "User profile with id: 40981798\n",
      "Followers count: 8660\n",
      "Following count: 1676\n",
      "Recent posts:\n",
      "katyperry: This #Thanksgiving #IStandWithStandingRock text WATER to 82623 to help now! Sign the petition here: https://t.co/GFhQKfsB0i date: 2016-11-24 22:31:00\n",
      "katyperry: #Rio2016 ARE YOU READY TO #RISE https://t.co/QtFBSCQAPY date: 2016-08-05 21:17:00\n",
      "katyperry: @hotncolds swallowing lots of rain water? date: 2016-08-05 09:22:00\n",
      "katyperry: @diddleurskittle @Katysanalien omg! U r first! I'm flustered. date: 2016-07-23 07:17:00\n",
      "katyperry: @perryx84 omg this is one of my fav moments on teevee. Let's be friends? date: 2016-07-15 05:45:00\n",
      "katyperry: I may have just finished lint rolling my face. Goodnight.                                 (to be fair it's the best way to get glitter off) date: 2016-07-11 07:40:00\n",
      "katyperry: Every1 else havin a lit Friday night &amp; I'm here examining the nose pore cleaner strip I just peeled off &amp; I must say, nothing can top this. date: 2016-07-02 04:49:00\n",
      "katyperry: ❣🕶🇨🇺 @ Havana, Cuba https://t.co/onGUxpmTIv date: 2015-10-22 21:29:00\n",
      "katyperry: When you feelin yo self all night &amp; then see that you've had quinoa in your teeth the whole time 🙍🏻 date: 2015-09-16 00:10:00\n",
      "katyperry: YO PANAMA! The #PrismaticWorldTour is coming to you October 15th! Pre-sale starts next Monday! http://t.co/l3WgZjMZaS date: 2015-08-03 15:03:00\n",
      "katyperry: KATY x MOSCHINO #5 https://t.co/vx6ZjAWXBQ date: 2015-06-15 17:00:00\n",
      "Popular posts:\n",
      "katyperry: #Rio2016 ARE YOU READY TO #RISE https://t.co/QtFBSCQAPY likes 3\n",
      "katyperry: @hotncolds swallowing lots of rain water? likes 3\n",
      "katyperry: This #Thanksgiving #IStandWithStandingRock text WATER to 82623 to help now! Sign the petition here: https://t.co/GFhQKfsB0i likes 2\n",
      "katyperry: I may have just finished lint rolling my face. Goodnight.                                 (to be fair it's the best way to get glitter off) likes 2\n",
      "katyperry: Every1 else havin a lit Friday night &amp; I'm here examining the nose pore cleaner strip I just peeled off &amp; I must say, nothing can top this. likes 1\n",
      "katyperry: ❣🕶🇨🇺 @ Havana, Cuba https://t.co/onGUxpmTIv likes 1\n",
      "katyperry: YO PANAMA! The #PrismaticWorldTour is coming to you October 15th! Pre-sale starts next Monday! http://t.co/l3WgZjMZaS likes 1\n",
      "katyperry: @diddleurskittle @Katysanalien omg! U r first! I'm flustered. likes 0\n",
      "katyperry: @perryx84 omg this is one of my fav moments on teevee. Let's be friends? likes 0\n",
      "katyperry: When you feelin yo self all night &amp; then see that you've had quinoa in your teeth the whole time 🙍🏻 likes 0\n",
      "katyperry: KATY x MOSCHINO #5 https://t.co/vx6ZjAWXBQ likes 0\n",
      "Feed:\n",
      "katyperry: Life goals. https://t.co/XIn1qKMKQl date: 2017-01-11 02:52:00\n",
      "katyperry: Life goals. https://t.co/XIn1qKMKQl date: 2017-01-11 02:52:00\n",
      "katyperry: Life goals. https://t.co/XIn1qKMKQl date: 2017-01-11 02:52:00\n",
      "katyperry: Life goals. https://t.co/XIn1qKMKQl date: 2017-01-11 02:52:00\n",
      "katyperry: Life goals. https://t.co/XIn1qKMKQl date: 2017-01-11 02:52:00\n",
      "katyperry: Life goals. https://t.co/XIn1qKMKQl date: 2017-01-11 02:52:00\n",
      "katyperry: Life goals. https://t.co/XIn1qKMKQl date: 2017-01-11 02:52:00\n",
      "katyperry: Life goals. https://t.co/XIn1qKMKQl date: 2017-01-11 02:52:00\n",
      "katyperry: Life goals. https://t.co/XIn1qKMKQl date: 2017-01-11 02:52:00\n",
      "katyperry: Life goals. https://t.co/XIn1qKMKQl date: 2017-01-11 02:52:00\n",
      "katyperry: Life goals. https://t.co/XIn1qKMKQl date: 2017-01-11 02:52:00\n",
      "katyperry: Life goals. https://t.co/XIn1qKMKQl date: 2017-01-11 02:52:00\n",
      "katyperry: Life goals. https://t.co/XIn1qKMKQl date: 2017-01-11 02:52:00\n",
      "katyperry: Life goals. https://t.co/XIn1qKMKQl date: 2017-01-11 02:52:00\n",
      "katyperry: Life goals. https://t.co/XIn1qKMKQl date: 2017-01-11 02:52:00\n",
      "katyperry: Life goals. https://t.co/XIn1qKMKQl date: 2017-01-11 02:52:00\n",
      "katyperry: Life goals. https://t.co/XIn1qKMKQl date: 2017-01-11 02:52:00\n",
      "katyperry: Life goals. https://t.co/XIn1qKMKQl date: 2017-01-11 02:52:00\n",
      "katyperry: Life goals. https://t.co/XIn1qKMKQl date: 2017-01-11 02:52:00\n",
      "katyperry: Life goals. https://t.co/XIn1qKMKQl date: 2017-01-11 02:52:00\n",
      "katyperry: Life goals. https://t.co/XIn1qKMKQl date: 2017-01-11 02:52:00\n",
      "katyperry: Life goals. https://t.co/XIn1qKMKQl date: 2017-01-11 02:52:00\n",
      "katyperry: Life goals. https://t.co/XIn1qKMKQl date: 2017-01-11 02:52:00\n",
      "katyperry: Life goals. https://t.co/XIn1qKMKQl date: 2017-01-11 02:52:00\n",
      "katyperry: Life goals. https://t.co/XIn1qKMKQl date: 2017-01-11 02:52:00\n"
     ]
    }
   ],
   "source": [
    "# Get and print user profile\n",
    "user_id = 40981798\n",
    "tweets_to_show = 25\n",
    "user_profile = get_user_profile(user_id, tweets_to_show)\n",
    "print_user_profile(user_profile)"
   ]
  },
  {
   "cell_type": "markdown",
   "id": "dde8ab90",
   "metadata": {},
   "source": [
    "## Posts containing word"
   ]
  },
  {
   "cell_type": "code",
   "execution_count": 13,
   "id": "96124357",
   "metadata": {},
   "outputs": [
    {
     "name": "stdout",
     "output_type": "stream",
     "text": [
      "Posts containing 'beautiful':\n",
      "katyperry: 🙏🏼🇺🇸PEACEFULLY PROTEST🇺🇸🙏🏼\n",
      "katyperry: No! 1. It's not happening and 2. Always stay and peacefully protest.  https://t.co/3bYoUbOh1g\n"
     ]
    }
   ],
   "source": [
    "# Get and print posts with a given word\n",
    "posts_with_word = get_posts_with_word(\"test\", 2)\n",
    "print(\"Posts containing 'beautiful':\")\n",
    "for post in posts_with_word:\n",
    "    print(post[\"content\"])"
   ]
  },
  {
   "cell_type": "markdown",
   "id": "ed336184",
   "metadata": {},
   "source": [
    "# Cleanup"
   ]
  },
  {
   "cell_type": "code",
   "execution_count": 6,
   "id": "ccb94af2",
   "metadata": {},
   "outputs": [
    {
     "name": "stdout",
     "output_type": "stream",
     "text": [
      "Database cleared.\n"
     ]
    }
   ],
   "source": [
    "db.users.drop()\n",
    "db.followers.drop()\n",
    "db.posts.drop()\n",
    "db.likes.drop()\n",
    "db.feeds.drop()\n",
    "print(\"Database cleared.\")"
   ]
  },
  {
   "cell_type": "code",
   "execution_count": 19,
   "id": "0cf83358",
   "metadata": {},
   "outputs": [],
   "source": [
    "# Close the connection\n",
    "client.close()"
   ]
  }
 ],
 "metadata": {
  "kernelspec": {
   "display_name": "Python 3 (ipykernel)",
   "language": "python",
   "name": "python3"
  },
  "language_info": {
   "codemirror_mode": {
    "name": "ipython",
    "version": 3
   },
   "file_extension": ".py",
   "mimetype": "text/x-python",
   "name": "python",
   "nbconvert_exporter": "python",
   "pygments_lexer": "ipython3",
   "version": "3.9.19"
  }
 },
 "nbformat": 4,
 "nbformat_minor": 5
}
